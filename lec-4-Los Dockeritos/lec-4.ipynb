{
 "cells": [
  {
   "cell_type": "markdown",
   "metadata": {},
   "source": [
    "<center>\n",
    "    <img src=\"http://sct.inf.utfsm.cl/wp-content/uploads/2020/04/logo_di.png\" style=\"width:60%\">\n",
    "    <h1> INF-280 - Estadística Computacional </h1>\n",
    "    <h2> Análisis de Datos y Test de Hipótesis </h2>\n",
    "    <h4> Ignacio Cea Ruiz </h4>\n",
    "</center>"
   ]
  },
  {
   "cell_type": "markdown",
   "metadata": {},
   "source": [
    "## Introducción\n",
    "Los laboratorios de estadística computacional (LEC) tienen por objetivo principal analizar datos utilizando técnicas de visualización y evidenciar el comportamiento estocástico de experimentos aleatorios mediante simulaciones computacionales. Las experiencias buscan medir la habilidad de programación en Python y sus librerías, la capacidad de análisis estadístico y la comprensión de documentaciones, artículos y papers.\n",
    "\n",
    "> Recuerde que los laboratorios tienen una ponderación de 25% en la nota final del ramo y que, además, el promedio de estos debe ser mayor o igual a 55 para aprobar el ramo"
   ]
  },
  {
   "cell_type": "markdown",
   "metadata": {},
   "source": [
    "## Reglamento\n",
    "1. El desarrollo de los laboratorios debe ser en **Python**.\n",
    "2. El formato de entrega es un **archivo .ipynb**, es decir, un Jupyter Notebook.\n",
    "3. El nombre del archivo de entrega del laboratorio *i* debe seguir el siguiente formato: *lec-i-nombregrupo.ipynb*.\n",
    "4. Se recomienda seguir las recomendaciones de estilo descritas en [PEP 8](https://www.python.org/dev/peps/pep-0008/) y [Type hints](https://docs.python.org/3/library/typing.html) a la hora de programar.\n",
    "5. El tiempo para la realización de los laboratorios es extenso, por lo que solo se recibirán entregas hasta las 23:59 del día de entrega **a menos que se especifique lo contrario**. Entregas fuera del plazo serán calificadas con nota 0.\n",
    "6. Es de exclusiva responsabilidad del equipo de trabajo escribir los desarrollos y el código correspondiente en el notebook. Código o desarrollos en otras plataformas NO serán revisados.\n",
    "7. Antes de entregar su laboratorio verifique su **reproducibilidad**. Jupyter Notebooks con errores a la hora de ejecutarse serán penalizados con descuentos.\n",
    "8. Solo un integrante por grupo debe realizar la entrega por Aula.\n",
    "9. El código entregado es solo una guía, se puede modificar sin problemas. Así mismo, para cada ejercicio usted puede crear las funciones que estime conveniente. También puede agregar celdas de markdown para explicar y comentar según corresponda.\n",
    "10. No incluya prints innecesarios como parte de su entrega final."
   ]
  },
  {
   "cell_type": "markdown",
   "metadata": {},
   "source": [
    "## Toolbox\n",
    "\n",
    "La caja de herramientas (stack de tecnologias) para el presente laboratorio está conformada por:\n",
    "1. [Python](https://www.python.org/doc/).\n",
    "2. [Numpy](https://numpy.org/doc/stable/).\n",
    "3. [Scipy](https://docs.scipy.org/doc/scipy/reference/index.html)\n",
    "4. [Matplotlib](https://matplotlib.org/stable/contents.html).\n",
    "5. [Seaborn](https://seaborn.pydata.org/api.html).\n",
    "\n",
    "Usted es libre de utilizar el entorno de desarrollo que prefiera, sin embargo se recomienda el uso de [Anaconda](https://www.anaconda.com/products/individual#Downloads), ya que incluye las herramientas necesarias para desarrollar los laboratorios, permite una rápida instalación de otras librerías y es compatible con una gran variedad de sistemas operativos.\n",
    "\n",
    "Usted también es libre de usar tanto Jupyer Notebook (incluido en la instalación individual de Anaconda) como otras alternativas de desarrollo de archivos `.ipynb` tales como [Colab](https://colab.research.google.com/) o [Visual Studio Code](https://code.visualstudio.com/). En el caso de trabajar remotamente se recomienda utilizar Git para trabajar de manera exitosa y ordenada en equipo.\n",
    "\n",
    "Las librerías se introducirán amigablemente, no se asume ningún tipo de conocimiento previo en las tecnologías presentes en nuestra toolbox salvo por Python, sin embargo, se busca promover la lectura de documentaciones de librerías."
   ]
  },
  {
   "cell_type": "markdown",
   "metadata": {},
   "source": [
    "## Experiencia\n",
    "\n"
   ]
  },
  {
   "cell_type": "markdown",
   "metadata": {},
   "source": [
    "### 0. Importación de las librerías"
   ]
  },
  {
   "cell_type": "markdown",
   "metadata": {},
   "source": [
    "A continuación se importan las librerías que necesitaremos para el correcto desarrollo de esta experiencia. Se recomienda utilizar los aliases por defecto."
   ]
  },
  {
   "cell_type": "code",
   "execution_count": 1,
   "metadata": {},
   "outputs": [],
   "source": [
    "import numpy as np\n",
    "from scipy import stats\n",
    "import pandas as pd\n",
    "import matplotlib.pyplot as plt\n",
    "import seaborn as sns"
   ]
  },
  {
   "cell_type": "markdown",
   "metadata": {},
   "source": [
    "La librería que será central para la primera parte del desarrollo de este, su último LEC, es ✨`pandas`✨. Esta librería esta construida sobre las estructuras de datos provistas por `numpy`, proveyendo al cientista de datos una robusta serie de herramientas destinadas al **análisis de datos** tabulados de gran volumen.\n",
    "\n",
    "En la segunda parte, exploraremos los **test de hipótesis** desde un punto de vista conceptual y experimental."
   ]
  },
  {
   "cell_type": "markdown",
   "metadata": {},
   "source": [
    "### 1. Análisis y visualizaciones de datos con Pandas **(55 pts)**"
   ]
  },
  {
   "cell_type": "markdown",
   "metadata": {},
   "source": [
    "#### 1.1. Cargar datos"
   ]
  },
  {
   "cell_type": "markdown",
   "metadata": {},
   "source": [
    "A modo de introducción al análisis de datos en Python trabajaremos con el dataset `top_100_anime_movie.csv`, el cual contiene datos respecto a las 100 mejores películas animadas japonesas de todos los tiempos, según su ranking [IMDB](https://es.wikipedia.org/wiki/Internet_Movie_Database). Este dataset fue obtenido desde [Kaggle](https://www.kaggle.com/datasets/ayessa/top-100-anime-movies-imdb).\n",
    "\n",
    "El primer paso consiste en leer el archivo csv mediante la función `read_csv()` y almacenarlo en una variable conveniente."
   ]
  },
  {
   "cell_type": "code",
   "execution_count": 2,
   "metadata": {},
   "outputs": [],
   "source": [
    "anime_movies = pd.read_csv('top_100_anime_movie.csv')"
   ]
  },
  {
   "cell_type": "markdown",
   "metadata": {},
   "source": [
    "La función permite cargar datasets desde archivos en [formato csv](https://es.wikipedia.org/wiki/Valores_separados_por_comas), los cuales son almacenados como [dataframes](https://pandas.pydata.org/pandas-docs/stable/reference/api/pandas.DataFrame.html). También tiene parámetros opcionales que permiten personalizar la operación de lectura dependiendo de las características de la data (se recomienda leer la documentación asociada)."
   ]
  },
  {
   "cell_type": "markdown",
   "metadata": {},
   "source": [
    "#### 1.2. Explorando el dataset"
   ]
  },
  {
   "cell_type": "markdown",
   "metadata": {},
   "source": [
    "Tal como la librería Numpy está construida sobre los NumPy Arrays, Pandas está construida sobre un objeto principal llamado [Series](https://pandas.pydata.org/pandas-docs/stable/reference/api/pandas.Series.html). Este objeto es muy similar a un `ndarray` unidimensional, pero con funcionalidades adicionales tales como la posibilidad de que sus valores sean indexados mediante etiquetas especificadas por el programador.\n",
    "\n",
    "Luego, tenemos los objetos llamados [DataFrame](https://pandas.pydata.org/pandas-docs/stable/reference/api/pandas.DataFrame.html). Estos permiten almacenar datos tabulados, donde tanto columnas como filas pueden ser accedidas mediante alguna etiqueta específica. Los datos pueden ser de distintos tipos, pero cada columna (que es esencialmente una `Series`) solo puede contener datos del mismo tipo.\n",
    "\n",
    "> Un punto importante de ambas estructuras de datos es que son **mutables**, por lo tanto, se puede acceder directamente a sus elementos para editarlos.\n",
    "\n",
    "Una vez cargados los datos en un *DataFrame*, podemos proceder a revisar la información contenida en ellos.\n",
    "\n",
    "* El método `head()` permite visualizar las primeras entradas (filas) de la tabla:"
   ]
  },
  {
   "cell_type": "code",
   "execution_count": 3,
   "metadata": {},
   "outputs": [
    {
     "data": {
      "text/html": [
       "<div>\n",
       "<style scoped>\n",
       "    .dataframe tbody tr th:only-of-type {\n",
       "        vertical-align: middle;\n",
       "    }\n",
       "\n",
       "    .dataframe tbody tr th {\n",
       "        vertical-align: top;\n",
       "    }\n",
       "\n",
       "    .dataframe thead th {\n",
       "        text-align: right;\n",
       "    }\n",
       "</style>\n",
       "<table border=\"1\" class=\"dataframe\">\n",
       "  <thead>\n",
       "    <tr style=\"text-align: right;\">\n",
       "      <th></th>\n",
       "      <th>rank</th>\n",
       "      <th>title</th>\n",
       "      <th>rating</th>\n",
       "      <th>votes</th>\n",
       "      <th>year</th>\n",
       "      <th>minutes</th>\n",
       "      <th>genre</th>\n",
       "      <th>gross</th>\n",
       "    </tr>\n",
       "  </thead>\n",
       "  <tbody>\n",
       "    <tr>\n",
       "      <th>0</th>\n",
       "      <td>1</td>\n",
       "      <td>Ramayana: The Legend of Prince Rama</td>\n",
       "      <td>9.2</td>\n",
       "      <td>7,549</td>\n",
       "      <td>1993</td>\n",
       "      <td>97.0</td>\n",
       "      <td>Animation, Action, Adventure</td>\n",
       "      <td>NaN</td>\n",
       "    </tr>\n",
       "    <tr>\n",
       "      <th>1</th>\n",
       "      <td>2</td>\n",
       "      <td>Spirited Away</td>\n",
       "      <td>8.6</td>\n",
       "      <td>756,112</td>\n",
       "      <td>2001</td>\n",
       "      <td>125.0</td>\n",
       "      <td>Animation, Adventure, Family</td>\n",
       "      <td>$10.06M</td>\n",
       "    </tr>\n",
       "    <tr>\n",
       "      <th>2</th>\n",
       "      <td>3</td>\n",
       "      <td>Meiji Tokyo Renka Movie: Yumihari no Serenade</td>\n",
       "      <td>8.5</td>\n",
       "      <td>39</td>\n",
       "      <td>2015</td>\n",
       "      <td>60.0</td>\n",
       "      <td>Animation, Fantasy, Romance</td>\n",
       "      <td>NaN</td>\n",
       "    </tr>\n",
       "    <tr>\n",
       "      <th>3</th>\n",
       "      <td>4</td>\n",
       "      <td>Natsu e no tunnel, Sayonara no deguchi</td>\n",
       "      <td>8.5</td>\n",
       "      <td>23</td>\n",
       "      <td>2022</td>\n",
       "      <td>83.0</td>\n",
       "      <td>Animation</td>\n",
       "      <td>NaN</td>\n",
       "    </tr>\n",
       "    <tr>\n",
       "      <th>4</th>\n",
       "      <td>5</td>\n",
       "      <td>Attack on Titan: Chronicle</td>\n",
       "      <td>8.5</td>\n",
       "      <td>10,421</td>\n",
       "      <td>2020</td>\n",
       "      <td>122.0</td>\n",
       "      <td>Animation, Action, Adventure</td>\n",
       "      <td>NaN</td>\n",
       "    </tr>\n",
       "  </tbody>\n",
       "</table>\n",
       "</div>"
      ],
      "text/plain": [
       "   rank                                          title  rating    votes  year  \\\n",
       "0     1            Ramayana: The Legend of Prince Rama     9.2    7,549  1993   \n",
       "1     2                                  Spirited Away     8.6  756,112  2001   \n",
       "2     3  Meiji Tokyo Renka Movie: Yumihari no Serenade     8.5       39  2015   \n",
       "3     4         Natsu e no tunnel, Sayonara no deguchi     8.5       23  2022   \n",
       "4     5                     Attack on Titan: Chronicle     8.5   10,421  2020   \n",
       "\n",
       "   minutes                         genre    gross  \n",
       "0     97.0  Animation, Action, Adventure      NaN  \n",
       "1    125.0  Animation, Adventure, Family  $10.06M  \n",
       "2     60.0   Animation, Fantasy, Romance      NaN  \n",
       "3     83.0                     Animation      NaN  \n",
       "4    122.0  Animation, Action, Adventure      NaN  "
      ]
     },
     "execution_count": 3,
     "metadata": {},
     "output_type": "execute_result"
    }
   ],
   "source": [
    "anime_movies.head()"
   ]
  },
  {
   "cell_type": "markdown",
   "metadata": {},
   "source": [
    "* Podemos observar que se asigna una columna adicional sin nombre que contiene los índices por defecto (0, 1, 2...) para cada entrada. Podemos eliminarla asignando como índice la columna `rank` de la siguiente forma:"
   ]
  },
  {
   "cell_type": "code",
   "execution_count": 4,
   "metadata": {},
   "outputs": [
    {
     "data": {
      "text/html": [
       "<div>\n",
       "<style scoped>\n",
       "    .dataframe tbody tr th:only-of-type {\n",
       "        vertical-align: middle;\n",
       "    }\n",
       "\n",
       "    .dataframe tbody tr th {\n",
       "        vertical-align: top;\n",
       "    }\n",
       "\n",
       "    .dataframe thead th {\n",
       "        text-align: right;\n",
       "    }\n",
       "</style>\n",
       "<table border=\"1\" class=\"dataframe\">\n",
       "  <thead>\n",
       "    <tr style=\"text-align: right;\">\n",
       "      <th></th>\n",
       "      <th>title</th>\n",
       "      <th>rating</th>\n",
       "      <th>votes</th>\n",
       "      <th>year</th>\n",
       "      <th>minutes</th>\n",
       "      <th>genre</th>\n",
       "      <th>gross</th>\n",
       "    </tr>\n",
       "    <tr>\n",
       "      <th>rank</th>\n",
       "      <th></th>\n",
       "      <th></th>\n",
       "      <th></th>\n",
       "      <th></th>\n",
       "      <th></th>\n",
       "      <th></th>\n",
       "      <th></th>\n",
       "    </tr>\n",
       "  </thead>\n",
       "  <tbody>\n",
       "    <tr>\n",
       "      <th>1</th>\n",
       "      <td>Ramayana: The Legend of Prince Rama</td>\n",
       "      <td>9.2</td>\n",
       "      <td>7,549</td>\n",
       "      <td>1993</td>\n",
       "      <td>97.0</td>\n",
       "      <td>Animation, Action, Adventure</td>\n",
       "      <td>NaN</td>\n",
       "    </tr>\n",
       "    <tr>\n",
       "      <th>2</th>\n",
       "      <td>Spirited Away</td>\n",
       "      <td>8.6</td>\n",
       "      <td>756,112</td>\n",
       "      <td>2001</td>\n",
       "      <td>125.0</td>\n",
       "      <td>Animation, Adventure, Family</td>\n",
       "      <td>$10.06M</td>\n",
       "    </tr>\n",
       "    <tr>\n",
       "      <th>3</th>\n",
       "      <td>Meiji Tokyo Renka Movie: Yumihari no Serenade</td>\n",
       "      <td>8.5</td>\n",
       "      <td>39</td>\n",
       "      <td>2015</td>\n",
       "      <td>60.0</td>\n",
       "      <td>Animation, Fantasy, Romance</td>\n",
       "      <td>NaN</td>\n",
       "    </tr>\n",
       "    <tr>\n",
       "      <th>4</th>\n",
       "      <td>Natsu e no tunnel, Sayonara no deguchi</td>\n",
       "      <td>8.5</td>\n",
       "      <td>23</td>\n",
       "      <td>2022</td>\n",
       "      <td>83.0</td>\n",
       "      <td>Animation</td>\n",
       "      <td>NaN</td>\n",
       "    </tr>\n",
       "    <tr>\n",
       "      <th>5</th>\n",
       "      <td>Attack on Titan: Chronicle</td>\n",
       "      <td>8.5</td>\n",
       "      <td>10,421</td>\n",
       "      <td>2020</td>\n",
       "      <td>122.0</td>\n",
       "      <td>Animation, Action, Adventure</td>\n",
       "      <td>NaN</td>\n",
       "    </tr>\n",
       "  </tbody>\n",
       "</table>\n",
       "</div>"
      ],
      "text/plain": [
       "                                              title  rating    votes  year  \\\n",
       "rank                                                                         \n",
       "1               Ramayana: The Legend of Prince Rama     9.2    7,549  1993   \n",
       "2                                     Spirited Away     8.6  756,112  2001   \n",
       "3     Meiji Tokyo Renka Movie: Yumihari no Serenade     8.5       39  2015   \n",
       "4            Natsu e no tunnel, Sayonara no deguchi     8.5       23  2022   \n",
       "5                        Attack on Titan: Chronicle     8.5   10,421  2020   \n",
       "\n",
       "      minutes                         genre    gross  \n",
       "rank                                                  \n",
       "1        97.0  Animation, Action, Adventure      NaN  \n",
       "2       125.0  Animation, Adventure, Family  $10.06M  \n",
       "3        60.0   Animation, Fantasy, Romance      NaN  \n",
       "4        83.0                     Animation      NaN  \n",
       "5       122.0  Animation, Action, Adventure      NaN  "
      ]
     },
     "execution_count": 4,
     "metadata": {},
     "output_type": "execute_result"
    }
   ],
   "source": [
    "anime_movies.set_index('rank', inplace=True) # ¿Para qué sirve el parámetro inplace=True?\n",
    "anime_movies.head()"
   ]
  },
  {
   "cell_type": "markdown",
   "metadata": {},
   "source": [
    "* Podemos revisar el atributo  `shape` para comprobar que tenemos 100 entradas en la tabla (además de ver cuántas columnas tenemos, excluyendo el índice `rank`):"
   ]
  },
  {
   "cell_type": "code",
   "execution_count": 5,
   "metadata": {},
   "outputs": [
    {
     "data": {
      "text/plain": [
       "(100, 7)"
      ]
     },
     "execution_count": 5,
     "metadata": {},
     "output_type": "execute_result"
    }
   ],
   "source": [
    "anime_movies.shape"
   ]
  },
  {
   "cell_type": "markdown",
   "metadata": {},
   "source": [
    "* Para acceder a una columna en particular del *DataFrame*:"
   ]
  },
  {
   "cell_type": "code",
   "execution_count": 6,
   "metadata": {},
   "outputs": [
    {
     "data": {
      "text/plain": [
       "rank\n",
       "1                    Ramayana: The Legend of Prince Rama\n",
       "2                                          Spirited Away\n",
       "3          Meiji Tokyo Renka Movie: Yumihari no Serenade\n",
       "4                 Natsu e no tunnel, Sayonara no deguchi\n",
       "5                             Attack on Titan: Chronicle\n",
       "                             ...                        \n",
       "96     Mobile Suit Gundam: The Origin IV - Eve of Des...\n",
       "97                               Dou Kyu Sei: Classmates\n",
       "98            The Shimajiro Movie: Shimajiro in Bookland\n",
       "99                                        In This Corner\n",
       "100                                         Asatte Dansu\n",
       "Name: title, Length: 100, dtype: object"
      ]
     },
     "execution_count": 6,
     "metadata": {},
     "output_type": "execute_result"
    }
   ],
   "source": [
    "anime_movies['title']"
   ]
  },
  {
   "cell_type": "markdown",
   "metadata": {},
   "source": [
    "* Al seleccionar una columna, podemos acceder a sus elementos utilizando el operador de indexación una vez más (de acuerdo al índice que se esté utilizando, en nuestro caso los valores de la columna `rank`):"
   ]
  },
  {
   "cell_type": "code",
   "execution_count": 7,
   "metadata": {},
   "outputs": [
    {
     "data": {
      "text/plain": [
       "'Ramayana: The Legend of Prince Rama'"
      ]
     },
     "execution_count": 7,
     "metadata": {},
     "output_type": "execute_result"
    }
   ],
   "source": [
    "anime_movies['title'][1]"
   ]
  },
  {
   "cell_type": "markdown",
   "metadata": {},
   "source": [
    "* Para seleccionar registros (filas) basado en su posición dentro del DataFrame, utilizamos el método `iloc[]`:"
   ]
  },
  {
   "cell_type": "code",
   "execution_count": 8,
   "metadata": {},
   "outputs": [
    {
     "data": {
      "text/plain": [
       "title      Ramayana: The Legend of Prince Rama\n",
       "rating                                     9.2\n",
       "votes                                    7,549\n",
       "year                                      1993\n",
       "minutes                                   97.0\n",
       "genre             Animation, Action, Adventure\n",
       "gross                                      NaN\n",
       "Name: 1, dtype: object"
      ]
     },
     "execution_count": 8,
     "metadata": {},
     "output_type": "execute_result"
    }
   ],
   "source": [
    "anime_movies.iloc[0]"
   ]
  },
  {
   "cell_type": "markdown",
   "metadata": {},
   "source": [
    "Este método también puede utilizarse para obtener distintos *slices* y columnas específicas siguiendo la semántica dada en la documentación.\n",
    "\n",
    "* Para seleccionar registros basado en los índices (en nuestro ejemplo, los valores de la columna `rank` y los nombres de las columnas), utilizamos el método `loc[]`."
   ]
  },
  {
   "cell_type": "code",
   "execution_count": 9,
   "metadata": {},
   "outputs": [
    {
     "data": {
      "text/plain": [
       "title      Ramayana: The Legend of Prince Rama\n",
       "rating                                     9.2\n",
       "votes                                    7,549\n",
       "year                                      1993\n",
       "minutes                                   97.0\n",
       "genre             Animation, Action, Adventure\n",
       "gross                                      NaN\n",
       "Name: 1, dtype: object"
      ]
     },
     "execution_count": 9,
     "metadata": {},
     "output_type": "execute_result"
    }
   ],
   "source": [
    "anime_movies.loc[1]"
   ]
  },
  {
   "cell_type": "markdown",
   "metadata": {},
   "source": [
    "**1.2.1)** Utilice el método `iloc` para obtener una vista de los últimos 5 registros (los que están al final del dataframe), mostrando únicamente el título y el rating de cada película. Luego, escriba una expresión que le permita obtener el mismo resultado, pero con el método `loc`. ¿En qué se diferencian ambos métodos?, ¿cuáles son las ventajas y desventajas de usar uno u otro? **(6 pts.)**"
   ]
  },
  {
   "cell_type": "code",
   "execution_count": 10,
   "metadata": {},
   "outputs": [
    {
     "data": {
      "text/html": [
       "<div>\n",
       "<style scoped>\n",
       "    .dataframe tbody tr th:only-of-type {\n",
       "        vertical-align: middle;\n",
       "    }\n",
       "\n",
       "    .dataframe tbody tr th {\n",
       "        vertical-align: top;\n",
       "    }\n",
       "\n",
       "    .dataframe thead th {\n",
       "        text-align: right;\n",
       "    }\n",
       "</style>\n",
       "<table border=\"1\" class=\"dataframe\">\n",
       "  <thead>\n",
       "    <tr style=\"text-align: right;\">\n",
       "      <th></th>\n",
       "      <th>title</th>\n",
       "      <th>rating</th>\n",
       "      <th>votes</th>\n",
       "      <th>year</th>\n",
       "      <th>minutes</th>\n",
       "      <th>genre</th>\n",
       "      <th>gross</th>\n",
       "    </tr>\n",
       "    <tr>\n",
       "      <th>rank</th>\n",
       "      <th></th>\n",
       "      <th></th>\n",
       "      <th></th>\n",
       "      <th></th>\n",
       "      <th></th>\n",
       "      <th></th>\n",
       "      <th></th>\n",
       "    </tr>\n",
       "  </thead>\n",
       "  <tbody>\n",
       "    <tr>\n",
       "      <th>96</th>\n",
       "      <td>Mobile Suit Gundam: The Origin IV - Eve of Des...</td>\n",
       "      <td>7.7</td>\n",
       "      <td>462</td>\n",
       "      <td>2016</td>\n",
       "      <td>85.0</td>\n",
       "      <td>Animation, Action, Drama</td>\n",
       "      <td>NaN</td>\n",
       "    </tr>\n",
       "    <tr>\n",
       "      <th>97</th>\n",
       "      <td>Dou Kyu Sei: Classmates</td>\n",
       "      <td>7.7</td>\n",
       "      <td>2,742</td>\n",
       "      <td>2016</td>\n",
       "      <td>60.0</td>\n",
       "      <td>Animation, Drama, Music</td>\n",
       "      <td>NaN</td>\n",
       "    </tr>\n",
       "    <tr>\n",
       "      <th>98</th>\n",
       "      <td>The Shimajiro Movie: Shimajiro in Bookland</td>\n",
       "      <td>7.7</td>\n",
       "      <td>25</td>\n",
       "      <td>2016</td>\n",
       "      <td>61.0</td>\n",
       "      <td>Animation, Family</td>\n",
       "      <td>NaN</td>\n",
       "    </tr>\n",
       "    <tr>\n",
       "      <th>99</th>\n",
       "      <td>In This Corner</td>\n",
       "      <td>7.7</td>\n",
       "      <td>11,242</td>\n",
       "      <td>2016</td>\n",
       "      <td>129.0</td>\n",
       "      <td>Animation, Drama, Family</td>\n",
       "      <td>NaN</td>\n",
       "    </tr>\n",
       "    <tr>\n",
       "      <th>100</th>\n",
       "      <td>Asatte Dansu</td>\n",
       "      <td>7.7</td>\n",
       "      <td>10</td>\n",
       "      <td>1991</td>\n",
       "      <td>45.0</td>\n",
       "      <td>Animation, Comedy, Romance</td>\n",
       "      <td>NaN</td>\n",
       "    </tr>\n",
       "  </tbody>\n",
       "</table>\n",
       "</div>"
      ],
      "text/plain": [
       "                                                  title  rating   votes  year  \\\n",
       "rank                                                                            \n",
       "96    Mobile Suit Gundam: The Origin IV - Eve of Des...     7.7     462  2016   \n",
       "97                              Dou Kyu Sei: Classmates     7.7   2,742  2016   \n",
       "98           The Shimajiro Movie: Shimajiro in Bookland     7.7      25  2016   \n",
       "99                                       In This Corner     7.7  11,242  2016   \n",
       "100                                        Asatte Dansu     7.7      10  1991   \n",
       "\n",
       "      minutes                       genre gross  \n",
       "rank                                             \n",
       "96       85.0    Animation, Action, Drama   NaN  \n",
       "97       60.0     Animation, Drama, Music   NaN  \n",
       "98       61.0           Animation, Family   NaN  \n",
       "99      129.0    Animation, Drama, Family   NaN  \n",
       "100      45.0  Animation, Comedy, Romance   NaN  "
      ]
     },
     "execution_count": 10,
     "metadata": {},
     "output_type": "execute_result"
    }
   ],
   "source": [
    "# Método iloc\n",
    "\n",
    "anime_movies.iloc[anime_movies.shape[0]-5:]\n"
   ]
  },
  {
   "cell_type": "code",
   "execution_count": 11,
   "metadata": {},
   "outputs": [
    {
     "data": {
      "text/html": [
       "<div>\n",
       "<style scoped>\n",
       "    .dataframe tbody tr th:only-of-type {\n",
       "        vertical-align: middle;\n",
       "    }\n",
       "\n",
       "    .dataframe tbody tr th {\n",
       "        vertical-align: top;\n",
       "    }\n",
       "\n",
       "    .dataframe thead th {\n",
       "        text-align: right;\n",
       "    }\n",
       "</style>\n",
       "<table border=\"1\" class=\"dataframe\">\n",
       "  <thead>\n",
       "    <tr style=\"text-align: right;\">\n",
       "      <th></th>\n",
       "      <th>title</th>\n",
       "      <th>rating</th>\n",
       "      <th>votes</th>\n",
       "      <th>year</th>\n",
       "      <th>minutes</th>\n",
       "      <th>genre</th>\n",
       "      <th>gross</th>\n",
       "    </tr>\n",
       "    <tr>\n",
       "      <th>rank</th>\n",
       "      <th></th>\n",
       "      <th></th>\n",
       "      <th></th>\n",
       "      <th></th>\n",
       "      <th></th>\n",
       "      <th></th>\n",
       "      <th></th>\n",
       "    </tr>\n",
       "  </thead>\n",
       "  <tbody>\n",
       "    <tr>\n",
       "      <th>96</th>\n",
       "      <td>Mobile Suit Gundam: The Origin IV - Eve of Des...</td>\n",
       "      <td>7.7</td>\n",
       "      <td>462</td>\n",
       "      <td>2016</td>\n",
       "      <td>85.0</td>\n",
       "      <td>Animation, Action, Drama</td>\n",
       "      <td>NaN</td>\n",
       "    </tr>\n",
       "    <tr>\n",
       "      <th>97</th>\n",
       "      <td>Dou Kyu Sei: Classmates</td>\n",
       "      <td>7.7</td>\n",
       "      <td>2,742</td>\n",
       "      <td>2016</td>\n",
       "      <td>60.0</td>\n",
       "      <td>Animation, Drama, Music</td>\n",
       "      <td>NaN</td>\n",
       "    </tr>\n",
       "    <tr>\n",
       "      <th>98</th>\n",
       "      <td>The Shimajiro Movie: Shimajiro in Bookland</td>\n",
       "      <td>7.7</td>\n",
       "      <td>25</td>\n",
       "      <td>2016</td>\n",
       "      <td>61.0</td>\n",
       "      <td>Animation, Family</td>\n",
       "      <td>NaN</td>\n",
       "    </tr>\n",
       "    <tr>\n",
       "      <th>99</th>\n",
       "      <td>In This Corner</td>\n",
       "      <td>7.7</td>\n",
       "      <td>11,242</td>\n",
       "      <td>2016</td>\n",
       "      <td>129.0</td>\n",
       "      <td>Animation, Drama, Family</td>\n",
       "      <td>NaN</td>\n",
       "    </tr>\n",
       "    <tr>\n",
       "      <th>100</th>\n",
       "      <td>Asatte Dansu</td>\n",
       "      <td>7.7</td>\n",
       "      <td>10</td>\n",
       "      <td>1991</td>\n",
       "      <td>45.0</td>\n",
       "      <td>Animation, Comedy, Romance</td>\n",
       "      <td>NaN</td>\n",
       "    </tr>\n",
       "  </tbody>\n",
       "</table>\n",
       "</div>"
      ],
      "text/plain": [
       "                                                  title  rating   votes  year  \\\n",
       "rank                                                                            \n",
       "96    Mobile Suit Gundam: The Origin IV - Eve of Des...     7.7     462  2016   \n",
       "97                              Dou Kyu Sei: Classmates     7.7   2,742  2016   \n",
       "98           The Shimajiro Movie: Shimajiro in Bookland     7.7      25  2016   \n",
       "99                                       In This Corner     7.7  11,242  2016   \n",
       "100                                        Asatte Dansu     7.7      10  1991   \n",
       "\n",
       "      minutes                       genre gross  \n",
       "rank                                             \n",
       "96       85.0    Animation, Action, Drama   NaN  \n",
       "97       60.0     Animation, Drama, Music   NaN  \n",
       "98       61.0           Animation, Family   NaN  \n",
       "99      129.0    Animation, Drama, Family   NaN  \n",
       "100      45.0  Animation, Comedy, Romance   NaN  "
      ]
     },
     "execution_count": 11,
     "metadata": {},
     "output_type": "execute_result"
    }
   ],
   "source": [
    "#Método loc\n",
    "anime_movies.loc[anime_movies.shape[0]-4:]"
   ]
  },
  {
   "cell_type": "markdown",
   "metadata": {},
   "source": [
    "**Respuesta**:"
   ]
  },
  {
   "cell_type": "markdown",
   "metadata": {},
   "source": [
    "iloc permite el acceso mediante indices para obtener valores dierectamente de las series, en cambio loc permite utilizar valores de columnas y expresiones booleanas para realizar comparaciones y filtrado de datos, por tanto depende de la situacion del análisis el método que se utilizara y la implementacion de ambas funciones.  \n",
    "Una ventaja del loc, es que permite acceder a valores específicos, pero a la vez  una desventaja es que hay que conocer el atributo que queremos evaluar o alguna condición sobre el mismo."
   ]
  },
  {
   "cell_type": "markdown",
   "metadata": {},
   "source": [
    " La diferencia entre el iloc y el loc, es que el primero, trabaja utilizando indices para obtener informacion de las series del dataset, y el segundo, permite acceder a títulos de columnos y adicionalmente ingresar expresiones booleanas para el pre-procesamiento y limpieza de datos.  \n",
    "Una ventaja del loc, es que permite acceder a valores específicos, pero a la vez  una desventaja es que hay que conocer el atributo que queremos evaluar o alguna condición sobre el mismo."
   ]
  },
  {
   "cell_type": "markdown",
   "metadata": {},
   "source": [
    "* También podemos utilizar expresiones condicionales dentro de `loc[...]`, de forma de mostrar solamente registros que cumplan con una condición dada."
   ]
  },
  {
   "cell_type": "markdown",
   "metadata": {},
   "source": [
    "**1.2.2)** Muestre el título y el rating de todas las películas que duran más de 120 minutos. **(4 pts)**"
   ]
  },
  {
   "cell_type": "code",
   "execution_count": 12,
   "metadata": {},
   "outputs": [
    {
     "data": {
      "text/html": [
       "<div>\n",
       "<style scoped>\n",
       "    .dataframe tbody tr th:only-of-type {\n",
       "        vertical-align: middle;\n",
       "    }\n",
       "\n",
       "    .dataframe tbody tr th {\n",
       "        vertical-align: top;\n",
       "    }\n",
       "\n",
       "    .dataframe thead th {\n",
       "        text-align: right;\n",
       "    }\n",
       "</style>\n",
       "<table border=\"1\" class=\"dataframe\">\n",
       "  <thead>\n",
       "    <tr style=\"text-align: right;\">\n",
       "      <th></th>\n",
       "      <th>title</th>\n",
       "      <th>rating</th>\n",
       "    </tr>\n",
       "    <tr>\n",
       "      <th>rank</th>\n",
       "      <th></th>\n",
       "      <th></th>\n",
       "    </tr>\n",
       "  </thead>\n",
       "  <tbody>\n",
       "    <tr>\n",
       "      <th>2</th>\n",
       "      <td>Spirited Away</td>\n",
       "      <td>8.6</td>\n",
       "    </tr>\n",
       "    <tr>\n",
       "      <th>5</th>\n",
       "      <td>Attack on Titan: Chronicle</td>\n",
       "      <td>8.5</td>\n",
       "    </tr>\n",
       "    <tr>\n",
       "      <th>10</th>\n",
       "      <td>Princess Mononoke</td>\n",
       "      <td>8.4</td>\n",
       "    </tr>\n",
       "    <tr>\n",
       "      <th>24</th>\n",
       "      <td>A Silent Voice: The Movie</td>\n",
       "      <td>8.1</td>\n",
       "    </tr>\n",
       "    <tr>\n",
       "      <th>28</th>\n",
       "      <td>Girls und Panzer Compilation Movie</td>\n",
       "      <td>8.1</td>\n",
       "    </tr>\n",
       "    <tr>\n",
       "      <th>31</th>\n",
       "      <td>Zoku Owarimonogatari</td>\n",
       "      <td>8.0</td>\n",
       "    </tr>\n",
       "    <tr>\n",
       "      <th>39</th>\n",
       "      <td>The Tale of The Princess Kaguya</td>\n",
       "      <td>8.0</td>\n",
       "    </tr>\n",
       "    <tr>\n",
       "      <th>40</th>\n",
       "      <td>Evangelion: 3.0+1.01 Thrice Upon a Time</td>\n",
       "      <td>8.0</td>\n",
       "    </tr>\n",
       "    <tr>\n",
       "      <th>42</th>\n",
       "      <td>The Disappearance of Haruhi Suzumiya</td>\n",
       "      <td>8.0</td>\n",
       "    </tr>\n",
       "    <tr>\n",
       "      <th>43</th>\n",
       "      <td>The Quintessential Quintuplets Movie</td>\n",
       "      <td>8.0</td>\n",
       "    </tr>\n",
       "    <tr>\n",
       "      <th>45</th>\n",
       "      <td>Gurren Lagann the Movie: The Lights in the Sky...</td>\n",
       "      <td>8.0</td>\n",
       "    </tr>\n",
       "    <tr>\n",
       "      <th>50</th>\n",
       "      <td>Akira</td>\n",
       "      <td>8.0</td>\n",
       "    </tr>\n",
       "    <tr>\n",
       "      <th>51</th>\n",
       "      <td>Castle in the Sky</td>\n",
       "      <td>8.0</td>\n",
       "    </tr>\n",
       "    <tr>\n",
       "      <th>65</th>\n",
       "      <td>Conan, the Boy in Future</td>\n",
       "      <td>7.8</td>\n",
       "    </tr>\n",
       "    <tr>\n",
       "      <th>76</th>\n",
       "      <td>Revival of Evangelion</td>\n",
       "      <td>7.8</td>\n",
       "    </tr>\n",
       "    <tr>\n",
       "      <th>99</th>\n",
       "      <td>In This Corner</td>\n",
       "      <td>7.7</td>\n",
       "    </tr>\n",
       "  </tbody>\n",
       "</table>\n",
       "</div>"
      ],
      "text/plain": [
       "                                                  title  rating\n",
       "rank                                                           \n",
       "2                                         Spirited Away     8.6\n",
       "5                            Attack on Titan: Chronicle     8.5\n",
       "10                                    Princess Mononoke     8.4\n",
       "24                            A Silent Voice: The Movie     8.1\n",
       "28                   Girls und Panzer Compilation Movie     8.1\n",
       "31                                 Zoku Owarimonogatari     8.0\n",
       "39                      The Tale of The Princess Kaguya     8.0\n",
       "40              Evangelion: 3.0+1.01 Thrice Upon a Time     8.0\n",
       "42                 The Disappearance of Haruhi Suzumiya     8.0\n",
       "43                 The Quintessential Quintuplets Movie     8.0\n",
       "45    Gurren Lagann the Movie: The Lights in the Sky...     8.0\n",
       "50                                                Akira     8.0\n",
       "51                                    Castle in the Sky     8.0\n",
       "65                             Conan, the Boy in Future     7.8\n",
       "76                                Revival of Evangelion     7.8\n",
       "99                                       In This Corner     7.7"
      ]
     },
     "execution_count": 12,
     "metadata": {},
     "output_type": "execute_result"
    }
   ],
   "source": [
    "anime_movies.loc[anime_movies['minutes']>120,[\"title\",\"rating\"]]"
   ]
  },
  {
   "cell_type": "markdown",
   "metadata": {},
   "source": [
    "* Podemos revisar el atributo `dtypes` para visualizar el tipo de datos almacenados en cada columna."
   ]
  },
  {
   "cell_type": "code",
   "execution_count": 13,
   "metadata": {},
   "outputs": [
    {
     "data": {
      "text/plain": [
       "title       object\n",
       "rating     float64\n",
       "votes       object\n",
       "year         int64\n",
       "minutes    float64\n",
       "genre       object\n",
       "gross       object\n",
       "dtype: object"
      ]
     },
     "execution_count": 13,
     "metadata": {},
     "output_type": "execute_result"
    }
   ],
   "source": [
    "anime_movies.dtypes"
   ]
  },
  {
   "cell_type": "markdown",
   "metadata": {},
   "source": [
    "Es común que, al importar datasets de distintas fuentes, usted deba realizar un **pre-procesamiento** de los datos para poder analizarlos correctamente.\n",
    "\n",
    "❗ La columna `votes` almacena la cantidad de votos por cada película pero, como podrá observar, en vez de ser del tipo `int`, esta columna es del tipo `object`, ya que almacena el entero como un string de caracteres numéricos, utilizando una `,` para agrupar los dígitos de 3 en 3. "
   ]
  },
  {
   "cell_type": "markdown",
   "metadata": {},
   "source": [
    "**1.2.3)** Modifique la columna `votes` del dataframe `anime_movies` de tal forma que sus valores sean puramente números enteros. Asegúrese de que el cambio sea correctamente almacenado en el dataframe. **(5 pts.)**\n",
    "\n",
    "*Hint*: Los métodos `map()` y `astype()` le serán de utilidad."
   ]
  },
  {
   "cell_type": "code",
   "execution_count": 14,
   "metadata": {},
   "outputs": [],
   "source": [
    "anime_movies['votes']=anime_movies['votes'].map(lambda x:x.replace(',','')).astype('int64')"
   ]
  },
  {
   "cell_type": "code",
   "execution_count": 15,
   "metadata": {},
   "outputs": [
    {
     "data": {
      "text/html": [
       "<div>\n",
       "<style scoped>\n",
       "    .dataframe tbody tr th:only-of-type {\n",
       "        vertical-align: middle;\n",
       "    }\n",
       "\n",
       "    .dataframe tbody tr th {\n",
       "        vertical-align: top;\n",
       "    }\n",
       "\n",
       "    .dataframe thead th {\n",
       "        text-align: right;\n",
       "    }\n",
       "</style>\n",
       "<table border=\"1\" class=\"dataframe\">\n",
       "  <thead>\n",
       "    <tr style=\"text-align: right;\">\n",
       "      <th></th>\n",
       "      <th>title</th>\n",
       "      <th>rating</th>\n",
       "      <th>votes</th>\n",
       "      <th>year</th>\n",
       "      <th>minutes</th>\n",
       "      <th>genre</th>\n",
       "      <th>gross</th>\n",
       "    </tr>\n",
       "    <tr>\n",
       "      <th>rank</th>\n",
       "      <th></th>\n",
       "      <th></th>\n",
       "      <th></th>\n",
       "      <th></th>\n",
       "      <th></th>\n",
       "      <th></th>\n",
       "      <th></th>\n",
       "    </tr>\n",
       "  </thead>\n",
       "  <tbody>\n",
       "    <tr>\n",
       "      <th>1</th>\n",
       "      <td>Ramayana: The Legend of Prince Rama</td>\n",
       "      <td>9.2</td>\n",
       "      <td>7549</td>\n",
       "      <td>1993</td>\n",
       "      <td>97.0</td>\n",
       "      <td>Animation, Action, Adventure</td>\n",
       "      <td>NaN</td>\n",
       "    </tr>\n",
       "    <tr>\n",
       "      <th>2</th>\n",
       "      <td>Spirited Away</td>\n",
       "      <td>8.6</td>\n",
       "      <td>756112</td>\n",
       "      <td>2001</td>\n",
       "      <td>125.0</td>\n",
       "      <td>Animation, Adventure, Family</td>\n",
       "      <td>$10.06M</td>\n",
       "    </tr>\n",
       "    <tr>\n",
       "      <th>3</th>\n",
       "      <td>Meiji Tokyo Renka Movie: Yumihari no Serenade</td>\n",
       "      <td>8.5</td>\n",
       "      <td>39</td>\n",
       "      <td>2015</td>\n",
       "      <td>60.0</td>\n",
       "      <td>Animation, Fantasy, Romance</td>\n",
       "      <td>NaN</td>\n",
       "    </tr>\n",
       "    <tr>\n",
       "      <th>4</th>\n",
       "      <td>Natsu e no tunnel, Sayonara no deguchi</td>\n",
       "      <td>8.5</td>\n",
       "      <td>23</td>\n",
       "      <td>2022</td>\n",
       "      <td>83.0</td>\n",
       "      <td>Animation</td>\n",
       "      <td>NaN</td>\n",
       "    </tr>\n",
       "    <tr>\n",
       "      <th>5</th>\n",
       "      <td>Attack on Titan: Chronicle</td>\n",
       "      <td>8.5</td>\n",
       "      <td>10421</td>\n",
       "      <td>2020</td>\n",
       "      <td>122.0</td>\n",
       "      <td>Animation, Action, Adventure</td>\n",
       "      <td>NaN</td>\n",
       "    </tr>\n",
       "    <tr>\n",
       "      <th>...</th>\n",
       "      <td>...</td>\n",
       "      <td>...</td>\n",
       "      <td>...</td>\n",
       "      <td>...</td>\n",
       "      <td>...</td>\n",
       "      <td>...</td>\n",
       "      <td>...</td>\n",
       "    </tr>\n",
       "    <tr>\n",
       "      <th>96</th>\n",
       "      <td>Mobile Suit Gundam: The Origin IV - Eve of Des...</td>\n",
       "      <td>7.7</td>\n",
       "      <td>462</td>\n",
       "      <td>2016</td>\n",
       "      <td>85.0</td>\n",
       "      <td>Animation, Action, Drama</td>\n",
       "      <td>NaN</td>\n",
       "    </tr>\n",
       "    <tr>\n",
       "      <th>97</th>\n",
       "      <td>Dou Kyu Sei: Classmates</td>\n",
       "      <td>7.7</td>\n",
       "      <td>2742</td>\n",
       "      <td>2016</td>\n",
       "      <td>60.0</td>\n",
       "      <td>Animation, Drama, Music</td>\n",
       "      <td>NaN</td>\n",
       "    </tr>\n",
       "    <tr>\n",
       "      <th>98</th>\n",
       "      <td>The Shimajiro Movie: Shimajiro in Bookland</td>\n",
       "      <td>7.7</td>\n",
       "      <td>25</td>\n",
       "      <td>2016</td>\n",
       "      <td>61.0</td>\n",
       "      <td>Animation, Family</td>\n",
       "      <td>NaN</td>\n",
       "    </tr>\n",
       "    <tr>\n",
       "      <th>99</th>\n",
       "      <td>In This Corner</td>\n",
       "      <td>7.7</td>\n",
       "      <td>11242</td>\n",
       "      <td>2016</td>\n",
       "      <td>129.0</td>\n",
       "      <td>Animation, Drama, Family</td>\n",
       "      <td>NaN</td>\n",
       "    </tr>\n",
       "    <tr>\n",
       "      <th>100</th>\n",
       "      <td>Asatte Dansu</td>\n",
       "      <td>7.7</td>\n",
       "      <td>10</td>\n",
       "      <td>1991</td>\n",
       "      <td>45.0</td>\n",
       "      <td>Animation, Comedy, Romance</td>\n",
       "      <td>NaN</td>\n",
       "    </tr>\n",
       "  </tbody>\n",
       "</table>\n",
       "<p>100 rows × 7 columns</p>\n",
       "</div>"
      ],
      "text/plain": [
       "                                                  title  rating   votes  year  \\\n",
       "rank                                                                            \n",
       "1                   Ramayana: The Legend of Prince Rama     9.2    7549  1993   \n",
       "2                                         Spirited Away     8.6  756112  2001   \n",
       "3         Meiji Tokyo Renka Movie: Yumihari no Serenade     8.5      39  2015   \n",
       "4                Natsu e no tunnel, Sayonara no deguchi     8.5      23  2022   \n",
       "5                            Attack on Titan: Chronicle     8.5   10421  2020   \n",
       "...                                                 ...     ...     ...   ...   \n",
       "96    Mobile Suit Gundam: The Origin IV - Eve of Des...     7.7     462  2016   \n",
       "97                              Dou Kyu Sei: Classmates     7.7    2742  2016   \n",
       "98           The Shimajiro Movie: Shimajiro in Bookland     7.7      25  2016   \n",
       "99                                       In This Corner     7.7   11242  2016   \n",
       "100                                        Asatte Dansu     7.7      10  1991   \n",
       "\n",
       "      minutes                         genre    gross  \n",
       "rank                                                  \n",
       "1        97.0  Animation, Action, Adventure      NaN  \n",
       "2       125.0  Animation, Adventure, Family  $10.06M  \n",
       "3        60.0   Animation, Fantasy, Romance      NaN  \n",
       "4        83.0                     Animation      NaN  \n",
       "5       122.0  Animation, Action, Adventure      NaN  \n",
       "...       ...                           ...      ...  \n",
       "96       85.0      Animation, Action, Drama      NaN  \n",
       "97       60.0       Animation, Drama, Music      NaN  \n",
       "98       61.0             Animation, Family      NaN  \n",
       "99      129.0      Animation, Drama, Family      NaN  \n",
       "100      45.0    Animation, Comedy, Romance      NaN  \n",
       "\n",
       "[100 rows x 7 columns]"
      ]
     },
     "execution_count": 15,
     "metadata": {},
     "output_type": "execute_result"
    }
   ],
   "source": [
    "anime_movies"
   ]
  },
  {
   "cell_type": "markdown",
   "metadata": {},
   "source": [
    "* El método `describe()` aplicado a una columna del dataframe muestra una caracterización estadística de los datos que contiene, según el tipo de dato asociado."
   ]
  },
  {
   "cell_type": "code",
   "execution_count": 16,
   "metadata": {},
   "outputs": [
    {
     "data": {
      "text/plain": [
       "count       100.000000\n",
       "mean      41306.550000\n",
       "std      107333.445459\n",
       "min          10.000000\n",
       "25%         414.500000\n",
       "50%        2711.000000\n",
       "75%       18069.500000\n",
       "max      756112.000000\n",
       "Name: votes, dtype: float64"
      ]
     },
     "execution_count": 16,
     "metadata": {},
     "output_type": "execute_result"
    }
   ],
   "source": [
    "anime_movies['votes'].describe()"
   ]
  },
  {
   "cell_type": "code",
   "execution_count": 17,
   "metadata": {},
   "outputs": [
    {
     "data": {
      "text/plain": [
       "count                              100\n",
       "unique                              33\n",
       "top       Animation, Action, Adventure\n",
       "freq                                17\n",
       "Name: genre, dtype: object"
      ]
     },
     "execution_count": 17,
     "metadata": {},
     "output_type": "execute_result"
    }
   ],
   "source": [
    "anime_movies['genre'].describe()"
   ]
  },
  {
   "cell_type": "markdown",
   "metadata": {},
   "source": [
    "* Cuando hay datos ausentes, pandas asigna el valor `NaN` a las casillas correspondientes. Las funciones `pd.isnull()` y `pd.notnull()` permiten filtrar dichos registros."
   ]
  },
  {
   "cell_type": "markdown",
   "metadata": {},
   "source": [
    "❗ La columna `gross` muestra las ganancias percibidas por cada película en millones de dólares. El problema es que varios registros tienen un valor `NaN` en dicho espacio y, aquellas que muestran un valor, lo hacen mediante un formato de string `$...M`.\n",
    "\n",
    "**1.2.4)** Almacene en un nuevo dataframe todos los registros de `anime_movies` que contienen datos NO nulos para la columna `gross`. Luego, modifique los valores de dicha columna de tal forma que el tipo de dato sea `float`, lo cual permitirá analizar dichos datos correctamente. **(6 pts.)**"
   ]
  },
  {
   "cell_type": "code",
   "execution_count": 18,
   "metadata": {},
   "outputs": [],
   "source": [
    "anime_movies_gross=anime_movies.loc[anime_movies['gross'].notnull()]"
   ]
  },
  {
   "cell_type": "code",
   "execution_count": 19,
   "metadata": {},
   "outputs": [
    {
     "data": {
      "text/plain": [
       "title      Ramayana: The Legend of Prince Rama\n",
       "rating                                     9.2\n",
       "votes                                     7549\n",
       "year                                      1993\n",
       "minutes                                   97.0\n",
       "genre             Animation, Action, Adventure\n",
       "gross                                      NaN\n",
       "Name: 1, dtype: object"
      ]
     },
     "execution_count": 19,
     "metadata": {},
     "output_type": "execute_result"
    }
   ],
   "source": [
    "anime_movies.loc[1]"
   ]
  },
  {
   "cell_type": "code",
   "execution_count": 20,
   "metadata": {},
   "outputs": [
    {
     "name": "stderr",
     "output_type": "stream",
     "text": [
      "/tmp/ipykernel_22462/313297341.py:1: SettingWithCopyWarning: \n",
      "A value is trying to be set on a copy of a slice from a DataFrame.\n",
      "Try using .loc[row_indexer,col_indexer] = value instead\n",
      "\n",
      "See the caveats in the documentation: https://pandas.pydata.org/pandas-docs/stable/user_guide/indexing.html#returning-a-view-versus-a-copy\n",
      "  anime_movies_gross['gross']=anime_movies_gross['gross'].map(lambda x:x.replace('$',''))\n",
      "/tmp/ipykernel_22462/313297341.py:2: SettingWithCopyWarning: \n",
      "A value is trying to be set on a copy of a slice from a DataFrame.\n",
      "Try using .loc[row_indexer,col_indexer] = value instead\n",
      "\n",
      "See the caveats in the documentation: https://pandas.pydata.org/pandas-docs/stable/user_guide/indexing.html#returning-a-view-versus-a-copy\n",
      "  anime_movies_gross['gross']=anime_movies_gross['gross'].map(lambda x:x.replace('M','')).astype('float64');\n"
     ]
    }
   ],
   "source": [
    "anime_movies_gross['gross']=anime_movies_gross['gross'].map(lambda x:x.replace('$',''))\n",
    "anime_movies_gross['gross']=anime_movies_gross['gross'].map(lambda x:x.replace('M','')).astype('float64');"
   ]
  },
  {
   "cell_type": "code",
   "execution_count": 21,
   "metadata": {},
   "outputs": [
    {
     "data": {
      "text/html": [
       "<div>\n",
       "<style scoped>\n",
       "    .dataframe tbody tr th:only-of-type {\n",
       "        vertical-align: middle;\n",
       "    }\n",
       "\n",
       "    .dataframe tbody tr th {\n",
       "        vertical-align: top;\n",
       "    }\n",
       "\n",
       "    .dataframe thead th {\n",
       "        text-align: right;\n",
       "    }\n",
       "</style>\n",
       "<table border=\"1\" class=\"dataframe\">\n",
       "  <thead>\n",
       "    <tr style=\"text-align: right;\">\n",
       "      <th></th>\n",
       "      <th>title</th>\n",
       "      <th>rating</th>\n",
       "      <th>votes</th>\n",
       "      <th>year</th>\n",
       "      <th>minutes</th>\n",
       "      <th>genre</th>\n",
       "      <th>gross</th>\n",
       "    </tr>\n",
       "    <tr>\n",
       "      <th>rank</th>\n",
       "      <th></th>\n",
       "      <th></th>\n",
       "      <th></th>\n",
       "      <th></th>\n",
       "      <th></th>\n",
       "      <th></th>\n",
       "      <th></th>\n",
       "    </tr>\n",
       "  </thead>\n",
       "  <tbody>\n",
       "    <tr>\n",
       "      <th>2</th>\n",
       "      <td>Spirited Away</td>\n",
       "      <td>8.6</td>\n",
       "      <td>756112</td>\n",
       "      <td>2001</td>\n",
       "      <td>125.0</td>\n",
       "      <td>Animation, Adventure, Family</td>\n",
       "      <td>10.06</td>\n",
       "    </tr>\n",
       "    <tr>\n",
       "      <th>9</th>\n",
       "      <td>Your Name.</td>\n",
       "      <td>8.4</td>\n",
       "      <td>265332</td>\n",
       "      <td>2016</td>\n",
       "      <td>106.0</td>\n",
       "      <td>Animation, Drama, Fantasy</td>\n",
       "      <td>5.02</td>\n",
       "    </tr>\n",
       "    <tr>\n",
       "      <th>10</th>\n",
       "      <td>Princess Mononoke</td>\n",
       "      <td>8.4</td>\n",
       "      <td>392732</td>\n",
       "      <td>1997</td>\n",
       "      <td>134.0</td>\n",
       "      <td>Animation, Action, Adventure</td>\n",
       "      <td>2.38</td>\n",
       "    </tr>\n",
       "    <tr>\n",
       "      <th>19</th>\n",
       "      <td>Demon Slayer the Movie: Mugen Train</td>\n",
       "      <td>8.2</td>\n",
       "      <td>57328</td>\n",
       "      <td>2020</td>\n",
       "      <td>117.0</td>\n",
       "      <td>Animation, Action, Adventure</td>\n",
       "      <td>47.70</td>\n",
       "    </tr>\n",
       "    <tr>\n",
       "      <th>21</th>\n",
       "      <td>Howl's Moving Castle</td>\n",
       "      <td>8.2</td>\n",
       "      <td>393001</td>\n",
       "      <td>2004</td>\n",
       "      <td>119.0</td>\n",
       "      <td>Animation, Adventure, Family</td>\n",
       "      <td>4.71</td>\n",
       "    </tr>\n",
       "    <tr>\n",
       "      <th>30</th>\n",
       "      <td>My Neighbor Totoro</td>\n",
       "      <td>8.1</td>\n",
       "      <td>337655</td>\n",
       "      <td>1988</td>\n",
       "      <td>86.0</td>\n",
       "      <td>Animation, Comedy, Family</td>\n",
       "      <td>1.11</td>\n",
       "    </tr>\n",
       "    <tr>\n",
       "      <th>33</th>\n",
       "      <td>I Want to Eat Your Pancreas</td>\n",
       "      <td>8.0</td>\n",
       "      <td>17152</td>\n",
       "      <td>2018</td>\n",
       "      <td>109.0</td>\n",
       "      <td>Animation, Drama, Family</td>\n",
       "      <td>0.28</td>\n",
       "    </tr>\n",
       "    <tr>\n",
       "      <th>39</th>\n",
       "      <td>The Tale of The Princess Kaguya</td>\n",
       "      <td>8.0</td>\n",
       "      <td>47044</td>\n",
       "      <td>2013</td>\n",
       "      <td>137.0</td>\n",
       "      <td>Animation, Drama, Family</td>\n",
       "      <td>1.51</td>\n",
       "    </tr>\n",
       "    <tr>\n",
       "      <th>41</th>\n",
       "      <td>Puella Magi Madoka Magica the Movie Part 2: Et...</td>\n",
       "      <td>8.0</td>\n",
       "      <td>1530</td>\n",
       "      <td>2012</td>\n",
       "      <td>109.0</td>\n",
       "      <td>Animation, Fantasy, Mystery</td>\n",
       "      <td>0.06</td>\n",
       "    </tr>\n",
       "    <tr>\n",
       "      <th>49</th>\n",
       "      <td>Perfect Blue</td>\n",
       "      <td>8.0</td>\n",
       "      <td>76780</td>\n",
       "      <td>1997</td>\n",
       "      <td>81.0</td>\n",
       "      <td>Animation, Crime, Drama</td>\n",
       "      <td>0.78</td>\n",
       "    </tr>\n",
       "    <tr>\n",
       "      <th>50</th>\n",
       "      <td>Akira</td>\n",
       "      <td>8.0</td>\n",
       "      <td>186597</td>\n",
       "      <td>1988</td>\n",
       "      <td>124.0</td>\n",
       "      <td>Animation, Action, Drama</td>\n",
       "      <td>0.55</td>\n",
       "    </tr>\n",
       "    <tr>\n",
       "      <th>52</th>\n",
       "      <td>Nausicaä of the Valley of the Wind</td>\n",
       "      <td>8.0</td>\n",
       "      <td>169469</td>\n",
       "      <td>1984</td>\n",
       "      <td>117.0</td>\n",
       "      <td>Animation, Adventure, Sci-Fi</td>\n",
       "      <td>0.50</td>\n",
       "    </tr>\n",
       "    <tr>\n",
       "      <th>61</th>\n",
       "      <td>Evangelion: 2.0 You Can</td>\n",
       "      <td>7.9</td>\n",
       "      <td>21960</td>\n",
       "      <td>2009</td>\n",
       "      <td>112.0</td>\n",
       "      <td>Animation, Action, Drama</td>\n",
       "      <td>0.13</td>\n",
       "    </tr>\n",
       "    <tr>\n",
       "      <th>63</th>\n",
       "      <td>Ghost in the Shell</td>\n",
       "      <td>7.9</td>\n",
       "      <td>143434</td>\n",
       "      <td>1995</td>\n",
       "      <td>83.0</td>\n",
       "      <td>Animation, Action, Crime</td>\n",
       "      <td>0.52</td>\n",
       "    </tr>\n",
       "    <tr>\n",
       "      <th>66</th>\n",
       "      <td>Dragon Ball Super: Broly</td>\n",
       "      <td>7.8</td>\n",
       "      <td>28022</td>\n",
       "      <td>2018</td>\n",
       "      <td>100.0</td>\n",
       "      <td>Animation, Action, Adventure</td>\n",
       "      <td>30.71</td>\n",
       "    </tr>\n",
       "    <tr>\n",
       "      <th>71</th>\n",
       "      <td>Puella Magi Madoka Magica the Movie Part III: ...</td>\n",
       "      <td>7.8</td>\n",
       "      <td>3672</td>\n",
       "      <td>2013</td>\n",
       "      <td>116.0</td>\n",
       "      <td>Animation, Drama, Fantasy</td>\n",
       "      <td>0.38</td>\n",
       "    </tr>\n",
       "    <tr>\n",
       "      <th>75</th>\n",
       "      <td>Jujutsu Kaisen 0: The Movie</td>\n",
       "      <td>7.8</td>\n",
       "      <td>17888</td>\n",
       "      <td>2021</td>\n",
       "      <td>112.0</td>\n",
       "      <td>Animation, Action, Fantasy</td>\n",
       "      <td>34.54</td>\n",
       "    </tr>\n",
       "    <tr>\n",
       "      <th>84</th>\n",
       "      <td>Tokyo Godfathers</td>\n",
       "      <td>7.8</td>\n",
       "      <td>40590</td>\n",
       "      <td>2003</td>\n",
       "      <td>92.0</td>\n",
       "      <td>Animation, Adventure, Comedy</td>\n",
       "      <td>0.13</td>\n",
       "    </tr>\n",
       "    <tr>\n",
       "      <th>87</th>\n",
       "      <td>Millennium Actress</td>\n",
       "      <td>7.8</td>\n",
       "      <td>28376</td>\n",
       "      <td>2001</td>\n",
       "      <td>87.0</td>\n",
       "      <td>Animation, Drama, Fantasy</td>\n",
       "      <td>0.19</td>\n",
       "    </tr>\n",
       "    <tr>\n",
       "      <th>88</th>\n",
       "      <td>Cowboy Bebop: The Movie</td>\n",
       "      <td>7.8</td>\n",
       "      <td>49122</td>\n",
       "      <td>2001</td>\n",
       "      <td>115.0</td>\n",
       "      <td>Animation, Action, Crime</td>\n",
       "      <td>1.00</td>\n",
       "    </tr>\n",
       "  </tbody>\n",
       "</table>\n",
       "</div>"
      ],
      "text/plain": [
       "                                                  title  rating   votes  year  \\\n",
       "rank                                                                            \n",
       "2                                         Spirited Away     8.6  756112  2001   \n",
       "9                                            Your Name.     8.4  265332  2016   \n",
       "10                                    Princess Mononoke     8.4  392732  1997   \n",
       "19                  Demon Slayer the Movie: Mugen Train     8.2   57328  2020   \n",
       "21                                 Howl's Moving Castle     8.2  393001  2004   \n",
       "30                                   My Neighbor Totoro     8.1  337655  1988   \n",
       "33                          I Want to Eat Your Pancreas     8.0   17152  2018   \n",
       "39                      The Tale of The Princess Kaguya     8.0   47044  2013   \n",
       "41    Puella Magi Madoka Magica the Movie Part 2: Et...     8.0    1530  2012   \n",
       "49                                         Perfect Blue     8.0   76780  1997   \n",
       "50                                                Akira     8.0  186597  1988   \n",
       "52                   Nausicaä of the Valley of the Wind     8.0  169469  1984   \n",
       "61                              Evangelion: 2.0 You Can     7.9   21960  2009   \n",
       "63                                   Ghost in the Shell     7.9  143434  1995   \n",
       "66                             Dragon Ball Super: Broly     7.8   28022  2018   \n",
       "71    Puella Magi Madoka Magica the Movie Part III: ...     7.8    3672  2013   \n",
       "75                          Jujutsu Kaisen 0: The Movie     7.8   17888  2021   \n",
       "84                                     Tokyo Godfathers     7.8   40590  2003   \n",
       "87                                   Millennium Actress     7.8   28376  2001   \n",
       "88                              Cowboy Bebop: The Movie     7.8   49122  2001   \n",
       "\n",
       "      minutes                         genre  gross  \n",
       "rank                                                \n",
       "2       125.0  Animation, Adventure, Family  10.06  \n",
       "9       106.0     Animation, Drama, Fantasy   5.02  \n",
       "10      134.0  Animation, Action, Adventure   2.38  \n",
       "19      117.0  Animation, Action, Adventure  47.70  \n",
       "21      119.0  Animation, Adventure, Family   4.71  \n",
       "30       86.0     Animation, Comedy, Family   1.11  \n",
       "33      109.0      Animation, Drama, Family   0.28  \n",
       "39      137.0      Animation, Drama, Family   1.51  \n",
       "41      109.0   Animation, Fantasy, Mystery   0.06  \n",
       "49       81.0       Animation, Crime, Drama   0.78  \n",
       "50      124.0      Animation, Action, Drama   0.55  \n",
       "52      117.0  Animation, Adventure, Sci-Fi   0.50  \n",
       "61      112.0      Animation, Action, Drama   0.13  \n",
       "63       83.0      Animation, Action, Crime   0.52  \n",
       "66      100.0  Animation, Action, Adventure  30.71  \n",
       "71      116.0     Animation, Drama, Fantasy   0.38  \n",
       "75      112.0    Animation, Action, Fantasy  34.54  \n",
       "84       92.0  Animation, Adventure, Comedy   0.13  \n",
       "87       87.0     Animation, Drama, Fantasy   0.19  \n",
       "88      115.0      Animation, Action, Crime   1.00  "
      ]
     },
     "execution_count": 21,
     "metadata": {},
     "output_type": "execute_result"
    }
   ],
   "source": [
    "anime_movies_gross"
   ]
  },
  {
   "cell_type": "markdown",
   "metadata": {},
   "source": [
    "#### 1.3. Visualizando la información contenida en un dataset"
   ]
  },
  {
   "cell_type": "markdown",
   "metadata": {},
   "source": [
    "Visualizar la información almacenada en un *pandas dataframe* no es difícil, sobre todo cuando tenemos a nuestra disposición librerías como `matplotlib` o `seaborn`."
   ]
  },
  {
   "cell_type": "markdown",
   "metadata": {},
   "source": [
    "* La función `sns.histplot()` permite generar un histograma simple, tan solo debemos pasarle la columna del dataframe que queremos graficar."
   ]
  },
  {
   "cell_type": "code",
   "execution_count": 22,
   "metadata": {},
   "outputs": [
    {
     "data": {
      "image/png": "[encoded data removed]",
      "text/plain": [
       "<Figure size 432x288 with 1 Axes>"
      ]
     },
     "metadata": {
      "needs_background": "light"
     },
     "output_type": "display_data"
    }
   ],
   "source": [
    "sns.histplot(anime_movies['year']);"
   ]
  },
  {
   "cell_type": "markdown",
   "metadata": {},
   "source": [
    "* La función `sns.kdeplot()` permite graficar una estimación de densidad de kernel, el cual muestra la distribución aproximada de los datos (como un histograma pero suavizado)."
   ]
  },
  {
   "cell_type": "code",
   "execution_count": 23,
   "metadata": {},
   "outputs": [
    {
     "name": "stderr",
     "output_type": "stream",
     "text": [
      "/usr/lib/python3/dist-packages/matplotlib/cbook/__init__.py:1402: FutureWarning: Support for multi-dimensional indexing (e.g. `obj[:, None]`) is deprecated and will be removed in a future version.  Convert to a numpy array before indexing instead.\n",
      "  ndim = x[:, None].ndim\n",
      "/usr/lib/python3/dist-packages/matplotlib/axes/_base.py:276: FutureWarning: Support for multi-dimensional indexing (e.g. `obj[:, None]`) is deprecated and will be removed in a future version.  Convert to a numpy array before indexing instead.\n",
      "  x = x[:, np.newaxis]\n",
      "/usr/lib/python3/dist-packages/matplotlib/axes/_base.py:278: FutureWarning: Support for multi-dimensional indexing (e.g. `obj[:, None]`) is deprecated and will be removed in a future version.  Convert to a numpy array before indexing instead.\n",
      "  y = y[:, np.newaxis]\n"
     ]
    },
    {
     "data": {
      "image/png": "[encoded data removed]",
      "text/plain": [
       "<Figure size 432x288 with 1 Axes>"
      ]
     },
     "metadata": {
      "needs_background": "light"
     },
     "output_type": "display_data"
    }
   ],
   "source": [
    "sns.kdeplot(anime_movies['minutes']);"
   ]
  },
  {
   "cell_type": "markdown",
   "metadata": {},
   "source": [
    "* La función `sns.boxplot()` permite graficar un **boxplot**, también llamado gráfico de caja y bigotes, el cual muestra la distribución de los datos mediante una visualización de los datos atípicos (*outliers*), el rango (sin *outliers*), el rango intercuartil, los cuartiles (Q1 y Q3), la mediana (Q2) y los valores mínimo y máximo."
   ]
  },
  {
   "cell_type": "code",
   "execution_count": 24,
   "metadata": {},
   "outputs": [
    {
     "name": "stdout",
     "output_type": "stream",
     "text": [
      "count     100.000000\n",
      "mean     2007.810000\n",
      "std        12.233168\n",
      "min      1979.000000\n",
      "25%      1997.750000\n",
      "50%      2013.000000\n",
      "75%      2018.000000\n",
      "max      2022.000000\n",
      "Name: year, dtype: float64\n"
     ]
    },
    {
     "data": {
      "image/png": "[encoded data removed]",
      "text/plain": [
       "<Figure size 1152x432 with 1 Axes>"
      ]
     },
     "metadata": {
      "needs_background": "light"
     },
     "output_type": "display_data"
    }
   ],
   "source": [
    "print(anime_movies['year'].describe())\n",
    "\n",
    "plt.figure(figsize=(16,6))\n",
    "sns.boxplot(x=anime_movies['year']);"
   ]
  },
  {
   "cell_type": "markdown",
   "metadata": {},
   "source": [
    "**1.3.1)** ¿Qué puede concluir respecto a la distribución de los años en que fueron producidas las películas del dataset? Considere todos los estadísticos que se visualizan en el boxplot (máximo, mínimo, mediana, cuartiles). **(4 pts.)**"
   ]
  },
  {
   "cell_type": "markdown",
   "metadata": {},
   "source": [
    "**Respuesta**: Se aprecia que existen outliers minimos y máximos, estos son los primeros animes creados y los últimos lanzados respectivamente, sin embargo considerando la concentración de los Q1,Q2 y Q3 notamos que durante la última decada se han producido bastantes series animadas, en paricular notamos que más de la mitad de las producciones del dataset se encuentran desde 2010, lo que tambien se representa en el boxpot, con una media aparente entre 2010 y 2015 "
   ]
  },
  {
   "cell_type": "markdown",
   "metadata": {},
   "source": [
    "**1.3.2)** Genere un gráfico de barras o *barplot* que muestre las frecuencias de los géneros que aparecen en el dataframe. Como podrá observar, la data respecto a los géneros de cada película está en el formato `'gen1, gen2, ...'`, por lo que cada una podrá pertenecer a más de un género. Adicionalmente, todas las películas del dataset pertenecen a la categoría *Animation*, lo cual es obvio dado que se trata de películas animadas; no considere esta categoría en el gráfico. Utilice la función `sns.barplot(x=..., y=...)` para generar el gráfico. **(10 pts.)**\n",
    "\n",
    "*Hints*: \n",
    "* Debe almacenar el nombre único de cada género (`x`) y sus ocurrencias respectivas (`y`).\n",
    "* Usar `plt.figure(figsize=(..., ...))` le permitirá setear las dimensiones de su gráfico."
   ]
  },
  {
   "cell_type": "code",
   "execution_count": 25,
   "metadata": {},
   "outputs": [
    {
     "data": {
      "image/png": "[encoded data removed]",
      "text/plain": [
       "<Figure size 1152x432 with 1 Axes>"
      ]
     },
     "metadata": {
      "needs_background": "light"
     },
     "output_type": "display_data"
    }
   ],
   "source": [
    "value = anime_movies['genre'].map(lambda x:x.split(',') )\n",
    "x = dict()\n",
    "for anime in value:\n",
    "    for genero in anime:\n",
    "        if genero in x:\n",
    "            x[genero]+=1\n",
    "        else:\n",
    "            x[genero]=1\n",
    "x_genero = []\n",
    "y_repeticion = []\n",
    "for x2,y in x.items():\n",
    "    #print(y)\n",
    "    x_genero.append(x2)\n",
    "    y_repeticion.append(y)\n",
    "plt.figure(figsize=(16,6))\n",
    "sns.barplot(x=x_genero[1:], y=y_repeticion[1:]);\n"
   ]
  },
  {
   "cell_type": "markdown",
   "metadata": {},
   "source": [
    "**1.3.3)** Obtenga un resumen estadístico de las ganancias obtenidas por las películas según el dataframe creado en el ítem **1.2.4**. Presente uno o más gráficos que le permitan visualizar las principales características de la data. Si se evidencia asimetría, ¿de qué tipo es?, ¿qué puede concluir al respecto?, ¿qué estadística es más **robusta**, la media o la mediana (fundamente)?, ¿hay presencia de outliers? **(15 pts.)**"
   ]
  },
  {
   "cell_type": "code",
   "execution_count": 26,
   "metadata": {},
   "outputs": [
    {
     "name": "stderr",
     "output_type": "stream",
     "text": [
      "/usr/lib/python3/dist-packages/matplotlib/cbook/__init__.py:1402: FutureWarning: Support for multi-dimensional indexing (e.g. `obj[:, None]`) is deprecated and will be removed in a future version.  Convert to a numpy array before indexing instead.\n",
      "  ndim = x[:, None].ndim\n",
      "/usr/lib/python3/dist-packages/matplotlib/axes/_base.py:276: FutureWarning: Support for multi-dimensional indexing (e.g. `obj[:, None]`) is deprecated and will be removed in a future version.  Convert to a numpy array before indexing instead.\n",
      "  x = x[:, np.newaxis]\n",
      "/usr/lib/python3/dist-packages/matplotlib/axes/_base.py:278: FutureWarning: Support for multi-dimensional indexing (e.g. `obj[:, None]`) is deprecated and will be removed in a future version.  Convert to a numpy array before indexing instead.\n",
      "  y = y[:, np.newaxis]\n"
     ]
    },
    {
     "data": {
      "text/plain": [
       "count    20.000000\n",
       "mean      7.113000\n",
       "std      13.688264\n",
       "min       0.060000\n",
       "25%       0.355000\n",
       "50%       0.890000\n",
       "75%       4.787500\n",
       "max      47.700000\n",
       "Name: gross, dtype: float64"
      ]
     },
     "execution_count": 26,
     "metadata": {},
     "output_type": "execute_result"
    },
    {
     "data": {
      "image/png": "[encoded data removed]",
      "text/plain": [
       "<Figure size 1152x432 with 1 Axes>"
      ]
     },
     "metadata": {
      "needs_background": "light"
     },
     "output_type": "display_data"
    },
    {
     "data": {
      "image/png": "[encoded data removed]",
      "text/plain": [
       "<Figure size 1152x432 with 1 Axes>"
      ]
     },
     "metadata": {
      "needs_background": "light"
     },
     "output_type": "display_data"
    }
   ],
   "source": [
    "plt.figure(figsize=(16,6))\n",
    "graf=sns.boxplot(x=anime_movies_gross['gross']);\n",
    "graf.set_xlim([-1, 11])  \n",
    "\n",
    "\n",
    "plt.figure(figsize=(16,6))\n",
    "sns.kdeplot(anime_movies_gross['gross']);\n",
    "\n",
    "anime_movies_gross['gross'].describe()"
   ]
  },
  {
   "cell_type": "markdown",
   "metadata": {},
   "source": [
    "**Respuesta**:   \n",
    "El tipo de asmimetría es positivo, pues al realizar el eje en la media aprox 7.0, se aprecia que la cola queda hacia los positivos, considerandose una asimetría positiva, eso significa que existen valores por sobre la media que inducen un sesgo sobre el resultado al considerar solo la media, por tanto la mediana es más robusta en este caso, pues permite obtener el valor medio de los datos y sin considerar una posible diferencia entre valores inducida por valores extremos y/o outliers."
   ]
  },
  {
   "cell_type": "markdown",
   "metadata": {},
   "source": [
    "**1.3.4)** Obtenga un resumen estadístico de la columna `votes`. Luego, genere un boxplot que le permita visualizar la distribución de la data. Analice y comente respecto a los resultados obtenidos (máximo, mínimo, rango, cuartiles, media y desviación estándar). **(5 pts.)**"
   ]
  },
  {
   "cell_type": "code",
   "execution_count": 27,
   "metadata": {},
   "outputs": [
    {
     "data": {
      "text/plain": [
       "count       100.000000\n",
       "mean      41306.550000\n",
       "std      107333.445459\n",
       "min          10.000000\n",
       "25%         414.500000\n",
       "50%        2711.000000\n",
       "75%       18069.500000\n",
       "max      756112.000000\n",
       "Name: votes, dtype: float64"
      ]
     },
     "execution_count": 27,
     "metadata": {},
     "output_type": "execute_result"
    },
    {
     "data": {
      "image/png": "[encoded data removed]",
      "text/plain": [
       "<Figure size 1152x432 with 1 Axes>"
      ]
     },
     "metadata": {
      "needs_background": "light"
     },
     "output_type": "display_data"
    }
   ],
   "source": [
    "plt.figure(figsize=(16,6))\n",
    "graf=sns.boxplot(x=anime_movies['votes']);\n",
    "graf.set_xlim([-10000, 800000])  \n",
    "anime_movies['votes'].describe()"
   ]
  },
  {
   "cell_type": "code",
   "execution_count": 28,
   "metadata": {},
   "outputs": [
    {
     "data": {
      "text/plain": [
       "count       100.000000\n",
       "mean      41306.550000\n",
       "std      107333.445459\n",
       "min          10.000000\n",
       "25%         414.500000\n",
       "50%        2711.000000\n",
       "75%       18069.500000\n",
       "max      756112.000000\n",
       "Name: votes, dtype: float64"
      ]
     },
     "execution_count": 28,
     "metadata": {},
     "output_type": "execute_result"
    },
    {
     "data": {
      "image/png": "[encoded data removed]",
      "text/plain": [
       "<Figure size 1152x432 with 1 Axes>"
      ]
     },
     "metadata": {
      "needs_background": "light"
     },
     "output_type": "display_data"
    }
   ],
   "source": [
    "plt.figure(figsize=(16,6))\n",
    "graf=sns.boxplot(x=anime_movies['votes']);\n",
    "graf.set_xlim([-10000, 100000])  \n",
    "anime_movies['votes'].describe()"
   ]
  },
  {
   "cell_type": "code",
   "execution_count": 29,
   "metadata": {},
   "outputs": [
    {
     "data": {
      "text/plain": [
       "count       100.000000\n",
       "mean      41306.550000\n",
       "std      107333.445459\n",
       "min          10.000000\n",
       "25%         414.500000\n",
       "50%        2711.000000\n",
       "75%       18069.500000\n",
       "max      756112.000000\n",
       "Name: votes, dtype: float64"
      ]
     },
     "execution_count": 29,
     "metadata": {},
     "output_type": "execute_result"
    },
    {
     "data": {
      "image/png": "[encoded data removed]",
      "text/plain": [
       "<Figure size 1152x432 with 1 Axes>"
      ]
     },
     "metadata": {
      "needs_background": "light"
     },
     "output_type": "display_data"
    }
   ],
   "source": [
    "plt.figure(figsize=(16,6))\n",
    "graf=sns.boxplot(x=anime_movies['votes']);\n",
    "graf.set_xlim([-10000, 50000])  \n",
    "anime_movies['votes'].describe()"
   ]
  },
  {
   "cell_type": "markdown",
   "metadata": {},
   "source": [
    "**Comentarios y observaciones**:\n",
    "Notamos que la diferencia entre el valor minimo y máximo es significativa, siendo el min 10.000000 y el máx  756112.000000, verificando dicha aseveración en los gráficos boxplots donde se aprecia una gran cantidad de outliers, adicionalmente, el Q1 es bastante inferior al Q2, donde la media esta por bajo los 5000, marcando una gran diferencia entre animes populares y otras producciones que no tuvieron tanto exito"
   ]
  },
  {
   "cell_type": "markdown",
   "metadata": {},
   "source": [
    "### 2. Test de hipótesis **(45 pts.)**"
   ]
  },
  {
   "cell_type": "markdown",
   "metadata": {},
   "source": [
    "La prueba de hipótesis es un área de la **Inferencia Estadística** que plantea una serie de métodos para decidir si una afirmación conocida ($H_0$) sobre una población se puede considerar aún plausible bajo la presencia de nuevos datos. \n",
    "\n",
    "> \"El testeo de hipótesis es como un juicio legal. Asumimos que alguien es inocente hasta que haya evidencia suficiente que sugiera que es culpable. De la misma forma, mantenemos $H_0$ hasta que haya suficiente evidencia para rechazar $H_0$.\"\n"
   ]
  },
  {
   "cell_type": "markdown",
   "metadata": {},
   "source": [
    "**2.1)** Defina brevemente los siguientes elementos fundamentales de una prueba de hipótesis **(8 pts.)**:\n",
    "1. **Hipótesis nula $H_0$**: Es aquella hipotesis que se considera siempre verdadera hasta que se pueda encontrar evidencia de que esta es falsa.\n",
    "2. **Hipótesis alternativa $H_1$**:  Es la hipotesis contraria a la nula, esta representa la conclusio que el investigador quiere confirmar u obtener con el estudio del problema.\n",
    "3. **Estadístico de prueba**: Se utiliza en una prueba de hipotesis, por ejemplo decimos: $H_0$ es falseable y buscamos rechazarla mostrandonos a favor de $H_1$.\n",
    "4. **P-Value**: Corresponde a la probabilidad que tendremos de un cierto valor estadistico calculado sea correcto o posible basandonos en una hipotesis nula determinada.\n",
    "5. **Error de tipo 1**:  En este tipo de error se rechaza la hipotesis nula cuando esta es verdad es cierta, es decir que aunque $H_0$ sea real esta se rechazara sin comprobar.\n",
    "6. **Error de tipo 2**: En este tipo de error No se rechaza la hipotesis nula apesar que esta resulte ser falsa, es decir que apesar que $H_0$ sea falsa esta se aceptara.\n",
    "7. **Región crítica**:  Es la zona donde en una prueba estan los valores que rechazan la hipotesis nula, es decir si el estadistico cae en la region critica podemos rechazar $H_0$. \n",
    "8. **Posibles conclusiones derivadas de un test de hipótesis**: Luego de un test de hipoteis podemos comprobar que hipotesis es la correcta, es decir en el test podremos concluir si $H_0$ o $H_1$ es correcta o compatible con lo observado en la prueba realizada a nuestro espacio muestral."
   ]
  },
  {
   "cell_type": "markdown",
   "metadata": {},
   "source": [
    "**2.2)** ¿Por qué pueden ocurrir errores (de tipo 1 o 2) en una prueba de hipótesis? Considere que se trata de descartar o aceptar una aseveración realizada sobre una población en base a datos muestrales. **(2 pts.)**"
   ]
  },
  {
   "cell_type": "markdown",
   "metadata": {},
   "source": [
    "**Respuesta**: "
   ]
  },
  {
   "cell_type": "markdown",
   "metadata": {},
   "source": [
    "Estos ocurren cuando en una investigación estamos en la formulacion de la hipotesis, ante eso deberemos establecer un intervalo matematico en el cual entraran los datos de la prueba que realizaremos para estudiar el caso, es decir ocurren porque aun no tenemos certeza de cual sera el resultado de nuestra prueba estadistica."
   ]
  },
  {
   "cell_type": "markdown",
   "metadata": {},
   "source": [
    "**2.3)** Defina la función `hypothesis_test(sample, null_value, alpha)`, la cual realiza un test de hipótesis considerando la muestra `sample` y las hipótesis $H_0: \\mu = 20.5$ y $H_1: \\mu \\neq 20.5$ considerando un nivel de significancia $\\alpha = 0.05$ y el promedio muestral como estadístico de prueba **(10 pts.)**.\n",
    "\n",
    "*Hints*:\n",
    "* El valor `z` es el estadístico de prueba, en este caso se corresponde con *z-test*.\n",
    "* El valor `P_value` se calcula utilizando la `cdf` de una normal estándar.\n",
    "* El rechazar o no la hipótesis nula dependerá de la relación que haya entre el `P_value` y el nivel de significancia `alpha`.\n",
    "* La función retorna `False` si $H_0$ NO es rechazada, `True` en caso contrario."
   ]
  },
  {
   "cell_type": "code",
   "execution_count": 43,
   "metadata": {},
   "outputs": [],
   "source": [
    "sample = stats.norm.rvs(loc=21, scale=5, size=100)\n",
    "\n",
    "def hypothesis_test(sample, null_value, alpha) -> bool:\n",
    "    # Obtener los estadísticos de la muestra\n",
    "    n = len(sample)\n",
    "    sample_mean = sum(sample)/n\n",
    "    sample_std = np.std(sample)\n",
    "\n",
    "    # Obtener z (valor del estadístico de prueba)\n",
    "    z = np.power(n,1/2)*(sample_mean-null_value)/(np.power(sample_std,2))\n",
    "\n",
    "    # Obtener el P-value\n",
    "\n",
    "    Z = stats.norm(0,1)\n",
    "    P_value =Z.cdf(1-z)\n",
    "    # Mostrar el P-value\n",
    "\n",
    "    print(f\"P-value is: {P_value}\")\n",
    "\n",
    "    # H0 es rechazada?\n",
    "\n",
    "\n",
    "    if P_value>alpha:\n",
    "        print(\"H0 is rejected\")\n",
    "        return True\n",
    "    else: \n",
    "        print(\"H0 is not rejected\")\n",
    "\n",
    "        return False"
   ]
  },
  {
   "cell_type": "code",
   "execution_count": 42,
   "metadata": {},
   "outputs": [
    {
     "name": "stdout",
     "output_type": "stream",
     "text": [
      "P-value is: 6.750732703562311e-83\n",
      "H0 is not rejected\n"
     ]
    },
    {
     "data": {
      "text/plain": [
       "False"
      ]
     },
     "execution_count": 42,
     "metadata": {},
     "output_type": "execute_result"
    }
   ],
   "source": [
    "hypothesis_test(sample, 20.5, 0.05)"
   ]
  },
  {
   "cell_type": "markdown",
   "metadata": {},
   "source": [
    "**2.4)** Comente los resultados del test de hipótesis realizado en el ítem anterior. Además, interprete el P-value obtenido. **(5 pts.)**"
   ]
  },
  {
   "cell_type": "markdown",
   "metadata": {},
   "source": [
    "**Respuesta:** La H0 es rechazada, pues si corroboramos los datos obtenidos, la media del sample igresado no es 20,5, adicionalmente el p-value es mayor al alpha entregado, lo que indica que la probabilidad que Z > z es muy probable, descartando la hipotesis"
   ]
  },
  {
   "cell_type": "markdown",
   "metadata": {},
   "source": [
    "**2.5)** ¿Qué ocurre con el resultado del test de hipótesis a medida que el tamaño de la muestra aumenta?, ¿por qué? **(5 pts.)**"
   ]
  },
  {
   "cell_type": "markdown",
   "metadata": {},
   "source": [
    "**Respuesta:** A medida que el tamaño aumenta, la hipotesis tiende a ser aceptada, pues el p-value es mejor al alpha, esto indica que con pocos datos la varianza es demaciada para justificar la hipotesis."
   ]
  },
  {
   "cell_type": "markdown",
   "metadata": {},
   "source": [
    "**2.6)** Cuando el tamaño de la muestra es pequeño sabemos que el teorema del límite central es impreciso, lo que implica que nuestro test de hipótesis lo es también. Defina la función `hypothesis_test_2(sample, null_value, alpha)` que realiza un test de hipótesis como el del ítem **2.3** pero que permite evitar el problema mencionado respecto a las muestras pequeñas. **(10 pts.)**.\n",
    "\n",
    "*Hint*: El `P_value` se obtiene utilizando una cdf de una distribución de probabilidad distinta a la normal estándar."
   ]
  },
  {
   "cell_type": "code",
   "execution_count": 32,
   "metadata": {},
   "outputs": [],
   "source": [
    "def hypothesis_test_2(sample,null_value,alpha):\n",
    "    \n",
    "    ...\n",
    "    \n",
    "    return ..."
   ]
  },
  {
   "cell_type": "markdown",
   "metadata": {},
   "source": [
    "**2.7)** ¿Cuál es el criterio para considerar *pequeño* el tamaño de una muestra? Inidique un `size` pequeño en la celda de código siguiente de acuerdo al criterio considerado y ejecute el test de hipótesis modificado a la muestra generada. **(5 pts.)**"
   ]
  },
  {
   "cell_type": "markdown",
   "metadata": {},
   "source": [
    "**Respuesta**: Existe un valor de transición debajo del cual la H0 es rechazada y sobre el cual se acepta. Considerando muestras d"
   ]
  },
  {
   "cell_type": "code",
   "execution_count": 33,
   "metadata": {},
   "outputs": [
    {
     "ename": "TypeError",
     "evalue": "'ellipsis' object cannot be interpreted as an integer",
     "output_type": "error",
     "traceback": [
      "\u001b[0;31m---------------------------------------------------------------------------\u001b[0m",
      "\u001b[0;31mTypeError\u001b[0m                                 Traceback (most recent call last)",
      "Input \u001b[0;32mIn [33]\u001b[0m, in \u001b[0;36m<cell line: 1>\u001b[0;34m()\u001b[0m\n\u001b[0;32m----> 1\u001b[0m little_sample \u001b[38;5;241m=\u001b[39m \u001b[43mstats\u001b[49m\u001b[38;5;241;43m.\u001b[39;49m\u001b[43mnorm\u001b[49m\u001b[38;5;241;43m.\u001b[39;49m\u001b[43mrvs\u001b[49m\u001b[43m(\u001b[49m\u001b[43mloc\u001b[49m\u001b[38;5;241;43m=\u001b[39;49m\u001b[38;5;241;43m21\u001b[39;49m\u001b[43m,\u001b[49m\u001b[43m \u001b[49m\u001b[43mscale\u001b[49m\u001b[38;5;241;43m=\u001b[39;49m\u001b[38;5;241;43m5\u001b[39;49m\u001b[43m,\u001b[49m\u001b[43m \u001b[49m\u001b[43msize\u001b[49m\u001b[38;5;241;43m=\u001b[39;49m\u001b[38;5;241;43m.\u001b[39;49m\u001b[38;5;241;43m.\u001b[39;49m\u001b[38;5;241;43m.\u001b[39;49m\u001b[43m)\u001b[49m\n\u001b[1;32m      2\u001b[0m hypothesis_test_2(little_sample, \u001b[38;5;241m20.5\u001b[39m, \u001b[38;5;241m0.05\u001b[39m)\n",
      "File \u001b[0;32m/usr/lib/python3/dist-packages/scipy/stats/_distn_infrastructure.py:976\u001b[0m, in \u001b[0;36mrv_generic.rvs\u001b[0;34m(self, *args, **kwds)\u001b[0m\n\u001b[1;32m    972\u001b[0m \u001b[38;5;66;03m# `size` should just be an argument to _rvs(), but for, um,\u001b[39;00m\n\u001b[1;32m    973\u001b[0m \u001b[38;5;66;03m# historical reasons, it is made an attribute that is read\u001b[39;00m\n\u001b[1;32m    974\u001b[0m \u001b[38;5;66;03m# by _rvs().\u001b[39;00m\n\u001b[1;32m    975\u001b[0m \u001b[38;5;28mself\u001b[39m\u001b[38;5;241m.\u001b[39m_size \u001b[38;5;241m=\u001b[39m size\n\u001b[0;32m--> 976\u001b[0m vals \u001b[38;5;241m=\u001b[39m \u001b[38;5;28;43mself\u001b[39;49m\u001b[38;5;241;43m.\u001b[39;49m\u001b[43m_rvs\u001b[49m\u001b[43m(\u001b[49m\u001b[38;5;241;43m*\u001b[39;49m\u001b[43margs\u001b[49m\u001b[43m)\u001b[49m\n\u001b[1;32m    978\u001b[0m vals \u001b[38;5;241m=\u001b[39m vals \u001b[38;5;241m*\u001b[39m scale \u001b[38;5;241m+\u001b[39m loc\n\u001b[1;32m    980\u001b[0m \u001b[38;5;66;03m# do not forget to restore the _random_state\u001b[39;00m\n",
      "File \u001b[0;32m/usr/lib/python3/dist-packages/scipy/stats/_continuous_distns.py:217\u001b[0m, in \u001b[0;36mnorm_gen._rvs\u001b[0;34m(self)\u001b[0m\n\u001b[1;32m    216\u001b[0m \u001b[38;5;28;01mdef\u001b[39;00m \u001b[38;5;21m_rvs\u001b[39m(\u001b[38;5;28mself\u001b[39m):\n\u001b[0;32m--> 217\u001b[0m     \u001b[38;5;28;01mreturn\u001b[39;00m \u001b[38;5;28;43mself\u001b[39;49m\u001b[38;5;241;43m.\u001b[39;49m\u001b[43m_random_state\u001b[49m\u001b[38;5;241;43m.\u001b[39;49m\u001b[43mstandard_normal\u001b[49m\u001b[43m(\u001b[49m\u001b[38;5;28;43mself\u001b[39;49m\u001b[38;5;241;43m.\u001b[39;49m\u001b[43m_size\u001b[49m\u001b[43m)\u001b[49m\n",
      "File \u001b[0;32mmtrand.pyx:1403\u001b[0m, in \u001b[0;36mnumpy.random.mtrand.RandomState.standard_normal\u001b[0;34m()\u001b[0m\n",
      "File \u001b[0;32m_common.pyx:615\u001b[0m, in \u001b[0;36mnumpy.random._common.cont\u001b[0;34m()\u001b[0m\n",
      "\u001b[0;31mTypeError\u001b[0m: 'ellipsis' object cannot be interpreted as an integer"
     ]
    }
   ],
   "source": [
    "little_sample = stats.norm.rvs(loc=21, scale=5, size=...)\n",
    "hypothesis_test_2(little_sample, 20.5, 0.05)"
   ]
  }
 ],
 "metadata": {
  "kernelspec": {
   "display_name": "Python 3 (ipykernel)",
   "language": "python",
   "name": "python3"
  },
  "language_info": {
   "codemirror_mode": {
    "name": "ipython",
    "version": 3
   },
   "file_extension": ".py",
   "mimetype": "text/x-python",
   "name": "python",
   "nbconvert_exporter": "python",
   "pygments_lexer": "ipython3",
   "version": "3.8.10"
  },
  "vscode": {
   "interpreter": {
    "hash": "54eeab819945527a8d7209e791edf978968ef866f623a7ff0720d88b4a19b9c8"
   }
  }
 },
 "nbformat": 4,
 "nbformat_minor": 2
}
