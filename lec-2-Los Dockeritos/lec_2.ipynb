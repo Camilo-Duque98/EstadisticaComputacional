{
 "cells": [
  {
   "cell_type": "markdown",
   "metadata": {
    "id": "6y56O6hzSa2z"
   },
   "source": [
    "<center>\n",
    "    <img src=\"http://sct.inf.utfsm.cl/wp-content/uploads/2020/04/logo_di.png\" style=\"width:60%\">\n",
    "    <h1> INF-280 - Estadística Computacional </h1>\n",
    "    <h2> Variables Aleatorias </h2>\n",
    "    <h4> Ignacio Cea Ruiz </h4>\n",
    "</center>"
   ]
  },
  {
   "cell_type": "markdown",
   "metadata": {
    "id": "bZmG11K5Sa23"
   },
   "source": [
    "## Introducción\n",
    "Los laboratorios de estadística computacional (LEC) tienen por objetivo principal analizar datos utilizando técnicas de visualización y evidenciar el comportamiento estocástico de experimentos aleatorios mediante simulaciones computacionales. Las experiencias buscan medir la habilidad de programación en Python y sus librerías, la capacidad de análisis estadístico y la comprensión de documentaciones, artículos y papers.\n",
    "\n",
    "> Recuerde que los laboratorios tienen una ponderación de 25% en la nota final del ramo y que, además, el promedio de estos debe ser mayor o igual a 55 para aprobar el ramo"
   ]
  },
  {
   "cell_type": "markdown",
   "metadata": {
    "id": "d0D4nZ7ASa28"
   },
   "source": [
    "## Reglamento\n",
    "1. El desarrollo de los laboratorios debe ser en **Python**.\n",
    "2. El formato de entrega es un **archivo .ipynb**, es decir, un Jupyter Notebook.\n",
    "3. El nombre del archivo de entrega del laboratorio *i* debe seguir el siguiente formato: *lec-i-nombregrupo.ipynb*.\n",
    "4. Se recomienda seguir las recomendaciones de estilo descritas en [PEP 8](https://www.python.org/dev/peps/pep-0008/) y [Type hints](https://docs.python.org/3/library/typing.html) a la hora de programar.\n",
    "5. El tiempo para la realización de los laboratorios es extenso, por lo que solo se recibirán entregas hasta las 23:59 del día de entrega **a menos que se especifique lo contrario**. Entregas fuera del plazo serán calificadas con nota 0.\n",
    "6. Antes de entregar su laboratorio verifique su **reproducibilidad**. Jupyter Notebooks con errores a la hora de ejecutarse serán penalizados con descuentos.\n",
    "7. Solo un integrante por grupo debe realizar la entrega por Aula.\n",
    "8. El código entregado es solo una guía, se puede modificar sin problemas. Así mismo, para cada ejercicio usted puede crear las funciones que estime conveniente."
   ]
  },
  {
   "cell_type": "markdown",
   "metadata": {
    "id": "Q_XCGrkTSa3A"
   },
   "source": [
    "## Toolbox\n",
    "\n",
    "La caja de herramientas (stack de tecnologias) para el presente laboratorio está conformada por:\n",
    "1. [Python](https://www.python.org/doc/).\n",
    "2. [Numpy](https://numpy.org/doc/stable/).\n",
    "3. [Scipy](https://docs.scipy.org/doc/scipy/reference/index.html)\n",
    "5. [Plotly](https://plotly.com/python-api-reference/).\n",
    "\n",
    "Usted es libre de utilizar el entorno de desarrollo que prefiera, sin embargo se recomienda el uso de [Anaconda](https://www.anaconda.com/products/individual#Downloads), ya que incluye las herramientas necesarias para desarrollar los laboratorios, permite una rápida instalación de otras librerías y es compatible con una gran variedad de sistemas operativos.\n",
    "\n",
    "Usted también es libre de usar tanto Jupyer Notebook (incluido en la instalación individual de Anaconda) como otras alternativas de desarrollo de archivos `.ipynb` tales como [Colab](https://colab.research.google.com/) o [Visual Studio Code](https://code.visualstudio.com/). En el caso de trabajar remotamente se recomienda utilizar Git para trabajar de manera exitosa y ordenada en equipo.\n",
    "\n",
    "Las librerías se introducirán amigablemente, no se asume ningún tipo de conocimiento previo en las tecnologías presentes en nuestra toolbox salvo por Python, sin embargo, se busca promover la lectura de documentaciones de librerías."
   ]
  },
  {
   "cell_type": "markdown",
   "metadata": {
    "id": "RjPQ9eCVSa3E"
   },
   "source": [
    "## Experiencia\n",
    "\n"
   ]
  },
  {
   "cell_type": "markdown",
   "metadata": {
    "id": "iJZhTRnhSa3I"
   },
   "source": [
    "### 1. Importación de las librerías y funciones útiles"
   ]
  },
  {
   "cell_type": "markdown",
   "metadata": {
    "id": "sM6vWgwySa3K"
   },
   "source": [
    "A continuación se importan algunas de las librerías que necesitaremos para el correcto desarrollo de esta experiencia. Se recomienda utilizar los aliases por defecto."
   ]
  },
  {
   "cell_type": "code",
   "execution_count": 2,
   "metadata": {
    "id": "j6cT5M6MSa3L"
   },
   "outputs": [],
   "source": [
    "import numpy as np\n",
    "import plotly.graph_objects as go\n",
    "import plotly.figure_factory as ff"
   ]
  },
  {
   "cell_type": "markdown",
   "metadata": {
    "id": "7WHcwf0kSa3N"
   },
   "source": [
    "En la siguiente celda se implementa la función `plot_scatter`, la cual le permitirá mostrar un gráfico de dispersión a través de un arreglo de `x_values` y otro de `y_values`. Usted es libre de utilizarla o no, aunque se recomienda analizarla y leer la [documentación asociada](https://plotly.com/python/line-and-scatter/#scatter-and-line-plots-with-goscatter)."
   ]
  },
  {
   "cell_type": "code",
   "execution_count": null,
   "metadata": {
    "id": "sfgWwBenSa3Q"
   },
   "outputs": [],
   "source": [
    "def plot_scatter(x_values, y_values, title=None, x_label=None, y_label=None, height=500, width=800):\n",
    "    \n",
    "    fig = go.Figure()\n",
    "\n",
    "    fig.add_trace(go.Scatter(\n",
    "                    x= x_values,\n",
    "                    y= y_values,\n",
    "                    mode='markers',\n",
    "                    name='markers')\n",
    "                 )\n",
    "\n",
    "    fig.update_xaxes(title_text=x_label)\n",
    "    fig.update_yaxes(title_text=y_label)\n",
    "    fig.update_layout(title_text=title, title_x=0.5)        \n",
    "    fig.update_layout(height=height, width=width, template=\"plotly_dark\")\n",
    "\n",
    "    fig.show(renderer='notebook')"
   ]
  },
  {
   "cell_type": "markdown",
   "metadata": {
    "id": "pJQVl2Z6Sa3T"
   },
   "source": [
    "### 2. Fundamentos (**29 pts.**)"
   ]
  },
  {
   "cell_type": "markdown",
   "metadata": {
    "id": "DaX2XXjVSa3V"
   },
   "source": [
    "Comenzaremos conociendo las variables aleatorias de SciPy. Gran parte de lo que se desarrollará en esta sección se puede realizar sin problemas en NumPy, cada grupo es libre de utilizar la librería que más sea de su agrado en las siguientes secciones pero en esta **deben responder utilizando SciPy**.\n",
    "\n",
    "> Se recomienda revisar la documentación:\n",
    "> 1. [Distribuciones de NumPy](https://numpy.org/doc/1.16/reference/routines.random.html)\n",
    "> 2. [Distribuciones de SciPy](https://docs.scipy.org/doc/scipy/reference/stats.html)"
   ]
  },
  {
   "cell_type": "markdown",
   "metadata": {
    "id": "0x2H66J7Sa3W"
   },
   "source": [
    "Supongamos una variable aleatoria $X\\sim\\text{Binom}(20, 0.6)$, la cual representa el número de alumnos que aprueban el LEC 1, de entre un total de 20, donde la probabilidad de aprobar es $0.6$. Para definirla, solo hace falta hacer lo siguiente:"
   ]
  },
  {
   "cell_type": "code",
   "execution_count": null,
   "metadata": {
    "id": "zn4NpMcZSa3X"
   },
   "outputs": [],
   "source": [
    "from scipy.stats import binom\n",
    "X = binom(20, 0.6)"
   ]
  },
  {
   "cell_type": "markdown",
   "metadata": {
    "id": "NJQDkn68Sa3Y"
   },
   "source": [
    "* Tomemos una muestra de tamaño 1000 y comparemos el promedio muestral con el teórico:"
   ]
  },
  {
   "cell_type": "code",
   "execution_count": null,
   "metadata": {
    "colab": {
     "base_uri": "https://localhost:8080/"
    },
    "id": "RSUyHSrRSa3a",
    "outputId": "29a0b1a3-384b-4ada-b9b5-c908c2345adf"
   },
   "outputs": [
    {
     "name": "stdout",
     "output_type": "stream",
     "text": [
      "La media muestral es 12.022, mientras que la teórica es 12.0.\n"
     ]
    }
   ],
   "source": [
    "np.random.seed(2022) # Semilla\n",
    "sample_mean = np.mean(X.rvs(size=1000))\n",
    "theoretical_mean = X.mean()\n",
    "print(f\"La media muestral es {sample_mean}, mientras que la teórica es {theoretical_mean}.\")"
   ]
  },
  {
   "cell_type": "markdown",
   "metadata": {
    "id": "EJP7uvDgSa3b"
   },
   "source": [
    "* ¿Qué importancia tiene fijar una semilla? ¿Qué hace el método `rvs`? (**5 pts.**)"
   ]
  },
  {
   "cell_type": "markdown",
   "metadata": {
    "id": "UzTCE7vzSa3c"
   },
   "source": [
    "**Respuesta**: Dado que se requieren generar números pseudo aleatorios, se utiliza una semilla como generador para ellos, garantizando que siempre se generen los mismos, dado esto es que se puede repetir la operación con igual resultado anterior, por otra parte el método **rvs** genera variables aleatorias utilizando el binomio generado anteriormente con un rango de 1000."
   ]
  },
  {
   "cell_type": "markdown",
   "metadata": {
    "id": "GoqmMi54Sa3d"
   },
   "source": [
    "* La varianza también es fácilmente obtenible:"
   ]
  },
  {
   "cell_type": "code",
   "execution_count": null,
   "metadata": {
    "colab": {
     "base_uri": "https://localhost:8080/"
    },
    "id": "vwujYydMSa3d",
    "outputId": "c189181c-c1e3-456d-e316-743a87abe74c"
   },
   "outputs": [
    {
     "data": {
      "text/plain": [
       "4.800000000000001"
      ]
     },
     "execution_count": 62,
     "metadata": {},
     "output_type": "execute_result"
    }
   ],
   "source": [
    "X.var()"
   ]
  },
  {
   "cell_type": "markdown",
   "metadata": {
    "id": "t4e28t8mSa3e"
   },
   "source": [
    "El método ``pmf`` (*probability mass function*) para las variables aleatorias discretas permite calcular la probabilidad de ocurrencia para cada valor en el dominio de la variable aleatoria."
   ]
  },
  {
   "cell_type": "code",
   "execution_count": null,
   "metadata": {
    "colab": {
     "base_uri": "https://localhost:8080/"
    },
    "id": "boEoGNZ8Sa3f",
    "outputId": "ded76119-03c0-4c56-b245-52c3c9e2e08e"
   },
   "outputs": [
    {
     "data": {
      "text/plain": [
       "(0.11714155053639005, 0.07464701952887111, 3.6561584400629733e-05)"
      ]
     },
     "execution_count": 63,
     "metadata": {},
     "output_type": "execute_result"
    }
   ],
   "source": [
    "X.pmf(10), X.pmf(15), X.pmf(20)"
   ]
  },
  {
   "cell_type": "markdown",
   "metadata": {
    "id": "Myop8lplSa3g"
   },
   "source": [
    " Para las variables aleatorias continuas el análogo es el método ``pdf`` (*probability density function*).\n",
    " >  Recuerde que la función de densidad de probabilidad **no indica una probabilidad** para un valor $x$. Para calcular probabilidades con ella se debe integrar sobre el dominio de interés."
   ]
  },
  {
   "cell_type": "markdown",
   "metadata": {
    "id": "DLPgCtG-Sa3h"
   },
   "source": [
    " El método ``cdf`` (*cumulative distribution function*) permite calcular la probabilidad acumulada hasta cierto valor:"
   ]
  },
  {
   "cell_type": "code",
   "execution_count": null,
   "metadata": {
    "colab": {
     "base_uri": "https://localhost:8080/"
    },
    "id": "rQux4ojfSa3i",
    "outputId": "f24676a9-4311-4a2f-d8aa-b04c3910d2e5"
   },
   "outputs": [
    {
     "data": {
      "text/plain": [
       "(0.24466279668360685, 1.0)"
      ]
     },
     "execution_count": 64,
     "metadata": {},
     "output_type": "execute_result"
    }
   ],
   "source": [
    "X.cdf(10), X.cdf(20)"
   ]
  },
  {
   "cell_type": "markdown",
   "metadata": {
    "id": "iktgR3aXSa3j"
   },
   "source": [
    "El método ``ppf`` permite calcular el valor para el cual la probabilidad acumulada toma un cierto valor, es decir, es la inversa de la función de probabilidad acumulada."
   ]
  },
  {
   "cell_type": "code",
   "execution_count": null,
   "metadata": {
    "colab": {
     "base_uri": "https://localhost:8080/"
    },
    "id": "uRO5I4GpSa3l",
    "outputId": "75a29b7f-2d60-4a0d-e93d-37fe5d2d24f3"
   },
   "outputs": [
    {
     "data": {
      "text/plain": [
       "20.0"
      ]
     },
     "execution_count": 65,
     "metadata": {},
     "output_type": "execute_result"
    }
   ],
   "source": [
    "X.ppf(1)"
   ]
  },
  {
   "cell_type": "markdown",
   "metadata": {
    "id": "p3hWPXYZSa3m"
   },
   "source": [
    "#### 2.1 Problemas"
   ]
  },
  {
   "cell_type": "markdown",
   "metadata": {
    "id": "tXipOToWSa3m"
   },
   "source": [
    "**A)** Suponga que el número de conductores que viajan entre un punto de origen y uno de destino particulares durante un periodo de tiempo designado tiene una distribución de Poisson $Y$ con parámetro $\\mu=20$. ¿Cuál es la probabilidad de que el número de conductores (**8 pts.**)\n",
    "1. Sea a lo más 10?\n",
    "2. Exceda los 20?\n",
    "3. Esté entre 10 y 20, inclusive? Esté estrictamente entre 10 y 20?\n",
    "4. Esté entre 2 desviaciones estándar del valor medio?"
   ]
  },
  {
   "cell_type": "code",
   "execution_count": null,
   "metadata": {
    "colab": {
     "base_uri": "https://localhost:8080/"
    },
    "id": "xLEcxFMUSa3n",
    "outputId": "7aa67644-73ef-40a3-8844-5a914a759722"
   },
   "outputs": [
    {
     "name": "stdout",
     "output_type": "stream",
     "text": [
      "0.010811718826652699\n",
      "0.44090741576867676\n",
      "0.5540971719230157\n",
      "0.45944554801258575\n",
      "11.05572809000084 11\n",
      "28.94427190999916 29\n",
      "0.9548547592793336\n"
     ]
    }
   ],
   "source": [
    "from scipy.stats import poisson\n",
    "p_1=sum([poisson.pmf(x,20) for x in range(11)])\n",
    "print(p_1)\n",
    "p_2=1-sum([poisson.pmf(x,20) for x in range(21)])\n",
    "print(p_2)\n",
    "p_3_a=sum([poisson.pmf(x,20) for x in range(10,21)])\n",
    "print(p_3_a)\n",
    "p_3_b=sum([poisson.pmf(x,20) for x in range(11,20)])\n",
    "print(p_3_b)\n",
    "p_4_inferior=poisson.stats(20, moments='m')-2*(poisson.stats(20, moments='v'))**(1/2)\n",
    "p_4_superior=poisson.stats(20, moments='m')+2*(poisson.stats(20, moments='v'))**(1/2)\n",
    "p_4=sum([poisson.pmf(x,20) for x in range(round(p_4_inferior),round(p_4_superior))])\n",
    "print(p_4_inferior,round(p_4_inferior))\n",
    "print(p_4_superior,round(p_4_superior))\n",
    "print(p_4)"
   ]
  },
  {
   "cell_type": "markdown",
   "metadata": {
    "id": "iUO_1S4TSa3o"
   },
   "source": [
    "5. Genere una muestra de 1000 datos desde $Y$, calcule la media muestral y compárela con la media teórica. (**2 pts.**)"
   ]
  },
  {
   "cell_type": "code",
   "execution_count": null,
   "metadata": {
    "colab": {
     "base_uri": "https://localhost:8080/"
    },
    "id": "HSJjOicHSa3o",
    "outputId": "9e6df55c-37d2-4bcd-97b9-e027147f3d3f"
   },
   "outputs": [
    {
     "name": "stdout",
     "output_type": "stream",
     "text": [
      "Media muestral:  20.066\n",
      "Media teórica:  20.0\n"
     ]
    }
   ],
   "source": [
    "np.random.seed(2022)\n",
    "p_5 = poisson.rvs(20, size=1000)\n",
    "media_muestral= sum(p_5)/len(p_5)\n",
    "print(\"Media muestral: \",media_muestral)\n",
    "media_teorica=poisson.stats(20, moments='m')\n",
    "print(\"Media teórica: \", media_teorica)"
   ]
  },
  {
   "cell_type": "markdown",
   "metadata": {
    "id": "H9F463WBSa3p"
   },
   "source": [
    "6. Grafique la distribución de probabilidad de $Y$ desde 0 hasta 100. (*Hint*: La función `plot_scatter` puede ser de ayuda) (**2 pts.**)"
   ]
  },
  {
   "cell_type": "code",
   "execution_count": 12,
   "metadata": {
    "colab": {
     "base_uri": "https://localhost:8080/",
     "height": 265
    },
    "id": "YrPPsfgASa3q",
    "outputId": "3d7bdb74-c13f-42d8-bdd6-8696ce90364a"
   },
   "outputs": [
    {
     "ename": "NameError",
     "evalue": "name 'poisson' is not defined",
     "output_type": "error",
     "traceback": [
      "\u001b[1;31m---------------------------------------------------------------------------\u001b[0m",
      "\u001b[1;31mNameError\u001b[0m                                 Traceback (most recent call last)",
      "\u001b[1;32m<ipython-input-12-6ca11a3dd4ff>\u001b[0m in \u001b[0;36m<module>\u001b[1;34m\u001b[0m\n\u001b[0;32m      5\u001b[0m \u001b[0mlista2\u001b[0m \u001b[1;33m=\u001b[0m \u001b[1;33m[\u001b[0m\u001b[1;33m]\u001b[0m\u001b[1;33m\u001b[0m\u001b[1;33m\u001b[0m\u001b[0m\n\u001b[0;32m      6\u001b[0m \u001b[1;32mfor\u001b[0m \u001b[0mi\u001b[0m \u001b[1;32min\u001b[0m \u001b[0mrange\u001b[0m\u001b[1;33m(\u001b[0m\u001b[1;36m0\u001b[0m\u001b[1;33m,\u001b[0m\u001b[1;36m101\u001b[0m\u001b[1;33m)\u001b[0m\u001b[1;33m:\u001b[0m\u001b[1;33m\u001b[0m\u001b[1;33m\u001b[0m\u001b[0m\n\u001b[1;32m----> 7\u001b[1;33m   \u001b[0mlista\u001b[0m\u001b[1;33m.\u001b[0m\u001b[0mappend\u001b[0m\u001b[1;33m(\u001b[0m\u001b[0mpoisson\u001b[0m\u001b[1;33m.\u001b[0m\u001b[0mpmf\u001b[0m\u001b[1;33m(\u001b[0m\u001b[1;36m20\u001b[0m\u001b[1;33m,\u001b[0m\u001b[0mi\u001b[0m\u001b[1;33m)\u001b[0m\u001b[1;33m)\u001b[0m\u001b[1;33m\u001b[0m\u001b[1;33m\u001b[0m\u001b[0m\n\u001b[0m\u001b[0;32m      8\u001b[0m   \u001b[0mlista2\u001b[0m\u001b[1;33m.\u001b[0m\u001b[0mappend\u001b[0m\u001b[1;33m(\u001b[0m\u001b[0mi\u001b[0m\u001b[1;33m)\u001b[0m\u001b[1;33m\u001b[0m\u001b[1;33m\u001b[0m\u001b[0m\n\u001b[0;32m      9\u001b[0m \u001b[0mY\u001b[0m \u001b[1;33m=\u001b[0m \u001b[0mnp\u001b[0m\u001b[1;33m.\u001b[0m\u001b[0marray\u001b[0m\u001b[1;33m(\u001b[0m\u001b[0mlista\u001b[0m\u001b[1;33m)\u001b[0m\u001b[1;33m\u001b[0m\u001b[1;33m\u001b[0m\u001b[0m\n",
      "\u001b[1;31mNameError\u001b[0m: name 'poisson' is not defined"
     ]
    }
   ],
   "source": [
    "import matplotlib.pyplot as plt\n",
    "\n",
    "lista = []\n",
    "#print(np.array([1,2,3,4,5]))\n",
    "lista2 = []\n",
    "for i in range(0,101):\n",
    "  lista.append(poisson.pmf(20,i))\n",
    "  lista2.append(i)\n",
    "Y = np.array(lista)\n",
    "X = np.array(lista2)\n",
    "\n",
    "plt.scatter(X,Y)\n",
    "#plt.scatter(X,Y, s = )\n",
    "plt.show();\n",
    "    \n",
    "    "
   ]
  },
  {
   "cell_type": "markdown",
   "metadata": {
    "id": "yaN85uNySa3r"
   },
   "source": [
    "7. Grafique la distribución de probabilidad acumulada de $Y$ desde 0 hasta 100. (**2 pts.**)"
   ]
  },
  {
   "cell_type": "code",
   "execution_count": null,
   "metadata": {
    "colab": {
     "base_uri": "https://localhost:8080/",
     "height": 265
    },
    "id": "4_2yzeUySa3t",
    "outputId": "4e61c916-1576-423b-a8ef-66ac489241a3"
   },
   "outputs": [
    {
     "data": {
      "image/png": "[encoded data removed]",
      "text/plain": [
       "<Figure size 432x288 with 1 Axes>"
      ]
     },
     "metadata": {
      "needs_background": "light"
     },
     "output_type": "display_data"
    }
   ],
   "source": [
    "import matplotlib.pyplot as plt\n",
    "from scipy.stats import poisson\n",
    "\n",
    "lista = []\n",
    "#print(np.array([1,2,3,4,5]))\n",
    "lista2 = []\n",
    "for i in range(0,101):\n",
    "  lista.append(poisson.cdf(i,20))\n",
    "  lista2.append(i)\n",
    "Y = np.array(lista)\n",
    "X = np.array(lista2)\n",
    "\n",
    "plt.scatter(X,Y)\n",
    "#plt.scatter(X,Y, s = )\n",
    "plt.show();"
   ]
  },
  {
   "cell_type": "markdown",
   "metadata": {
    "id": "qI0ZG9tRSa3u"
   },
   "source": [
    "**B)** Suponga que existe una variable aleatoria $T\\sim N(40,5)$, la cual modela la temperatura de un procesador en grados Celsius.\n",
    "\n",
    "1. ¿Cuál es la probabilidad de que $T$ tome valores entre 45[°C] y 50[°C]? (**2 pts.**)  \n",
    "Ocupamos la probabilidad en el intervalo \\[a,b\\], lo cual sigue la siguiente fórmula:  \n",
    "$P(a \\le X \\leq b) = F(b)-F(a) = Φ(\\frac{b-μ}{σ}) - Φ(\\frac{a-μ}{σ})$  \n",
    "Donde la funcion $Φ$ es la probabilidad de la variable Z en la distribución normal estandar $T\\sim N(0,1)$, donde $Z=\\frac{X-μ}{σ}$, siguiendo con esto, tomamos $a=45$, $b=50$, $μ=40$ y $σ=5$, entonces la probabilidad nos queda de la siguiente manera:  \n",
    "⇒ $P(45 \\le T \\leq 50) = F(50)-F(45) = Φ(\\frac{50-40}{5}) - Φ(\\frac{45-40}{5})$  \n",
    "⇒ $Φ(2) - Φ(1) = 0.977 - 0.841 = 0.136$  \n",
    "Así, la probabilidad de que $T$ tome valores entre 45[°C] y 50[°C] es del 13.6\\%."
   ]
  },
  {
   "cell_type": "code",
   "execution_count": 4,
   "metadata": {
    "id": "YuEAQAEzSa3v"
   },
   "outputs": [],
   "source": [
    "from scipy.stats import norm"
   ]
  },
  {
   "cell_type": "markdown",
   "metadata": {
    "id": "D5t7SuEFSa3w"
   },
   "source": [
    "2. Genere una muestra de 10000 datos desde $T$, calcule la media muestral y compárela con la media teórica. (**2 pts.**)"
   ]
  },
  {
   "cell_type": "code",
   "execution_count": 9,
   "metadata": {
    "colab": {
     "base_uri": "https://localhost:8080/"
    },
    "id": "lmAuHKmvSa3x",
    "outputId": "738a9fdf-e28d-4c03-987d-74842bdff64c"
   },
   "outputs": [
    {
     "name": "stdout",
     "output_type": "stream",
     "text": [
      "[39.9973605  38.62549288 39.30357219 ... 41.55546995 40.34955216\n",
      " 38.77472458]\n",
      "Media muestral:  40.009868686352235\n",
      "Media teórica:  40.0\n"
     ]
    }
   ],
   "source": [
    "np.random.seed(2022)\n",
    "p_5 = norm.rvs(40,5,size=10000)\n",
    "print(p_5)\n",
    "media_muestral= sum(p_5)/len(p_5)\n",
    "print(\"Media muestral: \",media_muestral)\n",
    "media_teorica=norm.stats(40,5, moments='m')\n",
    "print(\"Media teórica: \", media_teorica)"
   ]
  },
  {
   "cell_type": "markdown",
   "metadata": {
    "id": "ZGDRzirISa3x"
   },
   "source": [
    "3. Grafique la distribución de probabilidad de $T$ entre 10 y 70. (**3 pts.**)"
   ]
  },
  {
   "cell_type": "code",
   "execution_count": 16,
   "metadata": {
    "id": "mD4FNvf8Sa3y"
   },
   "outputs": [
    {
     "data": {
      "image/png": "[encoded data removed]",
      "text/plain": [
       "<Figure size 432x288 with 1 Axes>"
      ]
     },
     "metadata": {
      "needs_background": "light"
     },
     "output_type": "display_data"
    }
   ],
   "source": [
    "import matplotlib.pyplot as plt\n",
    "\n",
    "lista = []\n",
    "lista2 = []\n",
    "for i in range(10,71):\n",
    "  lista.append(norm.pdf(40,5,i))\n",
    "  lista2.append(i)\n",
    "Y = np.array(lista)\n",
    "X = np.array(lista2)\n",
    "\n",
    "plt.scatter(X,Y)\n",
    "plt.show();"
   ]
  },
  {
   "cell_type": "markdown",
   "metadata": {
    "id": "bBix7LKOSa3y"
   },
   "source": [
    "4. Grafique la distribución de probabilidad acumulada de $T$ entre 10 y 70. (**3 pts.**)"
   ]
  },
  {
   "cell_type": "code",
   "execution_count": 17,
   "metadata": {
    "id": "flEEAmJzSa3z"
   },
   "outputs": [
    {
     "data": {
      "image/png": "[encoded data removed]",
      "text/plain": [
       "<Figure size 432x288 with 1 Axes>"
      ]
     },
     "metadata": {
      "needs_background": "light"
     },
     "output_type": "display_data"
    }
   ],
   "source": [
    "import matplotlib.pyplot as plt\n",
    "\n",
    "lista = []\n",
    "lista2 = []\n",
    "for i in range(10,71):\n",
    "  lista.append(norm.cdf(40,5,i))\n",
    "  lista2.append(i)\n",
    "Y = np.array(lista)\n",
    "X = np.array(lista2)\n",
    "\n",
    "plt.scatter(X,Y)\n",
    "plt.show();\n"
   ]
  },
  {
   "cell_type": "markdown",
   "metadata": {
    "id": "iFKbchj2Sa3z"
   },
   "source": [
    "### 3. Generando ruido gaussiano (**32 pts.**)"
   ]
  },
  {
   "cell_type": "markdown",
   "metadata": {
    "id": "GGJ7UxZxSa30"
   },
   "source": [
    "Una propiedad interesante de las variables aleatorias es que estas pueden ser *transformadas*. De esta forma, podemos tomar los valores de una distribución dada y llegar a otra a través de ciertas operaciones algebraicas.\n",
    "\n",
    "En el siguiente problema, usted explorará cómo generar valores aleatorios normalmente distribuidos (*ruido gaussiano*) a partir de una distribución uniforme.\n",
    "\n",
    "El [método Box-Muller](https://en.wikipedia.org/wiki/Box%E2%80%93Muller_transform) nos ayudará en nuestra tarea. Sean $U$ y $V$ dos variables aleatorias uniformemente distribuidas en $]0,1[$. Luego, las siguientes variables aleatorias $X$ e $Y$:\n",
    "$\n",
    "\\begin{equation}\n",
    "X=\\sqrt{-2\\ln{U}}\\cos{(2\\pi V)}, \\ \\ \\ \\ Y=\\sqrt{-2\\ln{U}}\\sin{(2\\pi V)}\n",
    "\\end{equation}\n",
    "$\n",
    "Tendrán ambas una distribución normal estándar, además de ser independientes entre sí."
   ]
  },
  {
   "cell_type": "markdown",
   "metadata": {
    "id": "5fgsxTZlSa30"
   },
   "source": [
    "1. Desarrolle una función que tome dos valores `u` y `v` uniformemente distribuidos y retorne dos valores estándar-normalmente distribuidos `x` e `y`. (**5 pts.**)"
   ]
  },
  {
   "cell_type": "code",
   "execution_count": null,
   "metadata": {
    "id": "xrcKhmkySa30"
   },
   "outputs": [],
   "source": [
    "def boxMuller(u: float, v: float):\n",
    "    x = ...\n",
    "    y = ...\n",
    "    return x, y"
   ]
  },
  {
   "cell_type": "markdown",
   "metadata": {
    "id": "_6aO0RZJSa31"
   },
   "source": [
    "2. Genere dos *numpy array* con 10000 valores uniformemente distribuidos en $]0,1[$. Investigue **cómo aplicar la función que desarrolló en el ítem anterior de forma *vectorizada***, de forma que tome los valores de cada numpy array y genere así dos arreglos `X` e `Y` de valores estándar-normalmente distribuidos. Luego, asegúrese de concatenar ambos arreglos para obtener uno solo. (**6 pts.**)"
   ]
  },
  {
   "cell_type": "code",
   "execution_count": null,
   "metadata": {
    "id": "S1lcF9eySa32"
   },
   "outputs": [],
   "source": [
    "from scipy.stats import uniform"
   ]
  },
  {
   "cell_type": "markdown",
   "metadata": {
    "id": "W5ERf0E9Sa34"
   },
   "source": [
    "3. Grafique un histograma del arreglo final de valores estándar-normalmente distribuidos, colocando sobre él la curva que representa la pdf de una distribución normal estándar (grafique ambas cosas en el mismo plot). *Hint*: La función `create_distplot` de la libería `plotly.figure_factory` puede ser de ayuda. (**15 pts.**)"
   ]
  },
  {
   "cell_type": "code",
   "execution_count": null,
   "metadata": {
    "id": "OFeSa14pSa35"
   },
   "outputs": [],
   "source": []
  },
  {
   "cell_type": "markdown",
   "metadata": {
    "id": "HxDIaXdtSa36"
   },
   "source": [
    "4. ¿Qué transformación debería aplicar para obtener una variable aleatoria $W$ con valores normalmente distribuidos con media $\\mu=10$ y desviación estándar $\\sigma=2.5$? Escriba la transformación en $\\LaTeX$, desarrolle la función correspondiente, vectorícela y transforme los valores obtenidos en el ítem 2. ¿Su media y desviación estándar se aproximan a los valores esperados? (**6 pts.**)"
   ]
  },
  {
   "cell_type": "markdown",
   "metadata": {
    "id": "pMpIrcZkSa36"
   },
   "source": [
    "$\n",
    "\\begin{equation}\n",
    "W=\n",
    "\\end{equation}\n",
    "$"
   ]
  },
  {
   "cell_type": "code",
   "execution_count": null,
   "metadata": {
    "id": "_BwUATBASa37"
   },
   "outputs": [],
   "source": []
  },
  {
   "cell_type": "markdown",
   "metadata": {
    "id": "uJdMUP0CSa38"
   },
   "source": [
    "### 4. Fiestas Patrias *TikiTikiTí!* (**39 pts.**)"
   ]
  },
  {
   "cell_type": "markdown",
   "metadata": {
    "id": "af-lb28KSa39"
   },
   "source": [
    "Como habrá podido aprender en clases, la distribución de Poisson se utiliza principalmente para modelar la ocurrencia de eventos en intervalos de tiempo dados, a partir de una *tasa media de llegadas* (el parámetro $\\lambda$ o $\\mu$, dependiendo de la bibliografía). A continuación, analizaremos cómo esta distribución puede utilizarse para modelar el tráfico en una autopista, específicamente los posibles tacos generados en el famoso peaje Angostura, durante estas fiestas patrias. Además, introduciremos cómo la distribución exponencial puede utilizarse para modelar el tiempo de un servicio."
   ]
  },
  {
   "cell_type": "markdown",
   "metadata": {
    "id": "j9DtCk77Sa3-"
   },
   "source": [
    "<center>\n",
    "    <img src=\"https://media.biobiochile.cl/wp-content/uploads/2019/07/peaje-nueva-angostura-viajar-rapido-al-sur-de-chile-2.jpeg\" style=\"width:40%\">\n",
    "</center>"
   ]
  },
  {
   "cell_type": "markdown",
   "metadata": {
    "id": "o5tLVw2sSa3_"
   },
   "source": [
    "Suponga que las llegadas de vehículos al Peaje Angostura es modelada como una variable aleatoria $L\\sim\\text{Poisson}(\\lambda)$. Suponga, además, que el tiempo de atención en el peaje (tiempo de servicio) es modelado con una variable aleatoria $S\\sim\\text{Exp}(\\mu)$"
   ]
  },
  {
   "cell_type": "markdown",
   "metadata": {
    "id": "7KnX55LvSa3_"
   },
   "source": [
    "1. Si $\\lambda$ es la tasa media de llegadas y se sabe que atravesarán el portal 60 mil y 70 mil vehículos los días jueves 15 y viernes 16 de septiembre, respectivamente; modele mediante dos variables aleatorias, `L1` y `L2`, las llegadas de vehículos al peaje cada día (considere que un día tiene 24 horas y usted querrá obtener una tasa de llegadas en vehículos/minuto). Luego, complete la función `double_scatter`, que le permitirá mostrar en un mismo gráfico los puntos de las pmf correspondientes. (**6 pts.**)"
   ]
  },
  {
   "cell_type": "code",
   "execution_count": null,
   "metadata": {
    "colab": {
     "base_uri": "https://localhost:8080/",
     "height": 432
    },
    "id": "kp9-6uHHSa4A",
    "outputId": "f00f9e96-d154-4920-d4bd-4964e0a46a87"
   },
   "outputs": [
    {
     "ename": "ValueError",
     "evalue": "ignored",
     "output_type": "error",
     "traceback": [
      "\u001b[0;31m---------------------------------------------------------------------------\u001b[0m",
      "\u001b[0;31mValueError\u001b[0m                                Traceback (most recent call last)",
      "\u001b[0;32m<ipython-input-96-8c3c4003d2e7>\u001b[0m in \u001b[0;36m<module>\u001b[0;34m\u001b[0m\n\u001b[1;32m     21\u001b[0m     \u001b[0mfig\u001b[0m\u001b[0;34m.\u001b[0m\u001b[0mshow\u001b[0m\u001b[0;34m(\u001b[0m\u001b[0mrenderer\u001b[0m\u001b[0;34m=\u001b[0m\u001b[0;34m'notebook'\u001b[0m\u001b[0;34m)\u001b[0m\u001b[0;34m\u001b[0m\u001b[0;34m\u001b[0m\u001b[0m\n\u001b[1;32m     22\u001b[0m \u001b[0;34m\u001b[0m\u001b[0m\n\u001b[0;32m---> 23\u001b[0;31m \u001b[0mdouble_scatter\u001b[0m\u001b[0;34m(\u001b[0m\u001b[0mL1\u001b[0m\u001b[0;34m,\u001b[0m\u001b[0mL2\u001b[0m\u001b[0;34m)\u001b[0m\u001b[0;34m\u001b[0m\u001b[0;34m\u001b[0m\u001b[0m\n\u001b[0m",
      "\u001b[0;32m<ipython-input-96-8c3c4003d2e7>\u001b[0m in \u001b[0;36mdouble_scatter\u001b[0;34m(random_variable1, random_variable2, title, x_label, y_label, height, width)\u001b[0m\n\u001b[1;32m     12\u001b[0m     \u001b[0mfig\u001b[0m \u001b[0;34m=\u001b[0m \u001b[0mgo\u001b[0m\u001b[0;34m.\u001b[0m\u001b[0mFigure\u001b[0m\u001b[0;34m(\u001b[0m\u001b[0;34m)\u001b[0m\u001b[0;34m\u001b[0m\u001b[0;34m\u001b[0m\u001b[0m\n\u001b[1;32m     13\u001b[0m \u001b[0;34m\u001b[0m\u001b[0m\n\u001b[0;32m---> 14\u001b[0;31m     \u001b[0mfig\u001b[0m\u001b[0;34m.\u001b[0m\u001b[0madd_trace\u001b[0m\u001b[0;34m(\u001b[0m\u001b[0mgo\u001b[0m\u001b[0;34m.\u001b[0m\u001b[0mScatter\u001b[0m\u001b[0;34m(\u001b[0m\u001b[0mx\u001b[0m\u001b[0;34m=\u001b[0m\u001b[0mx_values\u001b[0m\u001b[0;34m,\u001b[0m \u001b[0my\u001b[0m\u001b[0;34m=\u001b[0m\u001b[0my_values1\u001b[0m\u001b[0;34m,\u001b[0m \u001b[0mmode\u001b[0m\u001b[0;34m=\u001b[0m\u001b[0;34m'markers'\u001b[0m\u001b[0;34m,\u001b[0m \u001b[0mname\u001b[0m\u001b[0;34m=\u001b[0m\u001b[0;34m\"pmf de VA 1\"\u001b[0m\u001b[0;34m)\u001b[0m\u001b[0;34m)\u001b[0m\u001b[0;34m\u001b[0m\u001b[0;34m\u001b[0m\u001b[0m\n\u001b[0m\u001b[1;32m     15\u001b[0m     \u001b[0mfig\u001b[0m\u001b[0;34m.\u001b[0m\u001b[0madd_trace\u001b[0m\u001b[0;34m(\u001b[0m\u001b[0mgo\u001b[0m\u001b[0;34m.\u001b[0m\u001b[0mScatter\u001b[0m\u001b[0;34m(\u001b[0m\u001b[0mx\u001b[0m\u001b[0;34m=\u001b[0m\u001b[0mx_values\u001b[0m\u001b[0;34m,\u001b[0m \u001b[0my\u001b[0m\u001b[0;34m=\u001b[0m\u001b[0my_values2\u001b[0m\u001b[0;34m,\u001b[0m \u001b[0mmode\u001b[0m\u001b[0;34m=\u001b[0m\u001b[0;34m'markers'\u001b[0m\u001b[0;34m,\u001b[0m \u001b[0mname\u001b[0m\u001b[0;34m=\u001b[0m\u001b[0;34m\"pmf de VA 2\"\u001b[0m\u001b[0;34m)\u001b[0m\u001b[0;34m)\u001b[0m\u001b[0;34m\u001b[0m\u001b[0;34m\u001b[0m\u001b[0m\n\u001b[1;32m     16\u001b[0m \u001b[0;34m\u001b[0m\u001b[0m\n",
      "\u001b[0;32m/usr/local/lib/python3.7/dist-packages/plotly/graph_objs/_scatter.py\u001b[0m in \u001b[0;36m__init__\u001b[0;34m(self, arg, cliponaxis, connectgaps, customdata, customdatasrc, dx, dy, error_x, error_y, fill, fillcolor, groupnorm, hoverinfo, hoverinfosrc, hoverlabel, hoveron, hovertemplate, hovertemplatesrc, hovertext, hovertextsrc, ids, idssrc, legendgroup, legendgrouptitle, legendrank, line, marker, meta, metasrc, mode, name, opacity, orientation, selected, selectedpoints, showlegend, stackgaps, stackgroup, stream, text, textfont, textposition, textpositionsrc, textsrc, texttemplate, texttemplatesrc, uid, uirevision, unselected, visible, x, x0, xaxis, xcalendar, xhoverformat, xperiod, xperiod0, xperiodalignment, xsrc, y, y0, yaxis, ycalendar, yhoverformat, yperiod, yperiod0, yperiodalignment, ysrc, **kwargs)\u001b[0m\n\u001b[1;32m   3242\u001b[0m         \u001b[0m_v\u001b[0m \u001b[0;34m=\u001b[0m \u001b[0my\u001b[0m \u001b[0;32mif\u001b[0m \u001b[0my\u001b[0m \u001b[0;32mis\u001b[0m \u001b[0;32mnot\u001b[0m \u001b[0;32mNone\u001b[0m \u001b[0;32melse\u001b[0m \u001b[0m_v\u001b[0m\u001b[0;34m\u001b[0m\u001b[0;34m\u001b[0m\u001b[0m\n\u001b[1;32m   3243\u001b[0m         \u001b[0;32mif\u001b[0m \u001b[0m_v\u001b[0m \u001b[0;32mis\u001b[0m \u001b[0;32mnot\u001b[0m \u001b[0;32mNone\u001b[0m\u001b[0;34m:\u001b[0m\u001b[0;34m\u001b[0m\u001b[0;34m\u001b[0m\u001b[0m\n\u001b[0;32m-> 3244\u001b[0;31m             \u001b[0mself\u001b[0m\u001b[0;34m[\u001b[0m\u001b[0;34m\"y\"\u001b[0m\u001b[0;34m]\u001b[0m \u001b[0;34m=\u001b[0m \u001b[0m_v\u001b[0m\u001b[0;34m\u001b[0m\u001b[0;34m\u001b[0m\u001b[0m\n\u001b[0m\u001b[1;32m   3245\u001b[0m         \u001b[0m_v\u001b[0m \u001b[0;34m=\u001b[0m \u001b[0marg\u001b[0m\u001b[0;34m.\u001b[0m\u001b[0mpop\u001b[0m\u001b[0;34m(\u001b[0m\u001b[0;34m\"y0\"\u001b[0m\u001b[0;34m,\u001b[0m \u001b[0;32mNone\u001b[0m\u001b[0;34m)\u001b[0m\u001b[0;34m\u001b[0m\u001b[0;34m\u001b[0m\u001b[0m\n\u001b[1;32m   3246\u001b[0m         \u001b[0m_v\u001b[0m \u001b[0;34m=\u001b[0m \u001b[0my0\u001b[0m \u001b[0;32mif\u001b[0m \u001b[0my0\u001b[0m \u001b[0;32mis\u001b[0m \u001b[0;32mnot\u001b[0m \u001b[0;32mNone\u001b[0m \u001b[0;32melse\u001b[0m \u001b[0m_v\u001b[0m\u001b[0;34m\u001b[0m\u001b[0;34m\u001b[0m\u001b[0m\n",
      "\u001b[0;32m/usr/local/lib/python3.7/dist-packages/plotly/basedatatypes.py\u001b[0m in \u001b[0;36m__setitem__\u001b[0;34m(self, prop, value)\u001b[0m\n\u001b[1;32m   4825\u001b[0m                 \u001b[0;31m# ### Handle simple property ###\u001b[0m\u001b[0;34m\u001b[0m\u001b[0;34m\u001b[0m\u001b[0;34m\u001b[0m\u001b[0m\n\u001b[1;32m   4826\u001b[0m                 \u001b[0;32melse\u001b[0m\u001b[0;34m:\u001b[0m\u001b[0;34m\u001b[0m\u001b[0;34m\u001b[0m\u001b[0m\n\u001b[0;32m-> 4827\u001b[0;31m                     \u001b[0mself\u001b[0m\u001b[0;34m.\u001b[0m\u001b[0m_set_prop\u001b[0m\u001b[0;34m(\u001b[0m\u001b[0mprop\u001b[0m\u001b[0;34m,\u001b[0m \u001b[0mvalue\u001b[0m\u001b[0;34m)\u001b[0m\u001b[0;34m\u001b[0m\u001b[0;34m\u001b[0m\u001b[0m\n\u001b[0m\u001b[1;32m   4828\u001b[0m             \u001b[0;32melse\u001b[0m\u001b[0;34m:\u001b[0m\u001b[0;34m\u001b[0m\u001b[0;34m\u001b[0m\u001b[0m\n\u001b[1;32m   4829\u001b[0m                 \u001b[0;31m# Make sure properties dict is initialized\u001b[0m\u001b[0;34m\u001b[0m\u001b[0;34m\u001b[0m\u001b[0;34m\u001b[0m\u001b[0m\n",
      "\u001b[0;32m/usr/local/lib/python3.7/dist-packages/plotly/basedatatypes.py\u001b[0m in \u001b[0;36m_set_prop\u001b[0;34m(self, prop, val)\u001b[0m\n\u001b[1;32m   5169\u001b[0m                 \u001b[0;32mreturn\u001b[0m\u001b[0;34m\u001b[0m\u001b[0;34m\u001b[0m\u001b[0m\n\u001b[1;32m   5170\u001b[0m             \u001b[0;32melse\u001b[0m\u001b[0;34m:\u001b[0m\u001b[0;34m\u001b[0m\u001b[0;34m\u001b[0m\u001b[0m\n\u001b[0;32m-> 5171\u001b[0;31m                 \u001b[0;32mraise\u001b[0m \u001b[0merr\u001b[0m\u001b[0;34m\u001b[0m\u001b[0;34m\u001b[0m\u001b[0m\n\u001b[0m\u001b[1;32m   5172\u001b[0m \u001b[0;34m\u001b[0m\u001b[0m\n\u001b[1;32m   5173\u001b[0m         \u001b[0;31m# val is None\u001b[0m\u001b[0;34m\u001b[0m\u001b[0;34m\u001b[0m\u001b[0;34m\u001b[0m\u001b[0m\n",
      "\u001b[0;32m/usr/local/lib/python3.7/dist-packages/plotly/basedatatypes.py\u001b[0m in \u001b[0;36m_set_prop\u001b[0;34m(self, prop, val)\u001b[0m\n\u001b[1;32m   5164\u001b[0m \u001b[0;34m\u001b[0m\u001b[0m\n\u001b[1;32m   5165\u001b[0m         \u001b[0;32mtry\u001b[0m\u001b[0;34m:\u001b[0m\u001b[0;34m\u001b[0m\u001b[0;34m\u001b[0m\u001b[0m\n\u001b[0;32m-> 5166\u001b[0;31m             \u001b[0mval\u001b[0m \u001b[0;34m=\u001b[0m \u001b[0mvalidator\u001b[0m\u001b[0;34m.\u001b[0m\u001b[0mvalidate_coerce\u001b[0m\u001b[0;34m(\u001b[0m\u001b[0mval\u001b[0m\u001b[0;34m)\u001b[0m\u001b[0;34m\u001b[0m\u001b[0;34m\u001b[0m\u001b[0m\n\u001b[0m\u001b[1;32m   5167\u001b[0m         \u001b[0;32mexcept\u001b[0m \u001b[0mValueError\u001b[0m \u001b[0;32mas\u001b[0m \u001b[0merr\u001b[0m\u001b[0;34m:\u001b[0m\u001b[0;34m\u001b[0m\u001b[0;34m\u001b[0m\u001b[0m\n\u001b[1;32m   5168\u001b[0m             \u001b[0;32mif\u001b[0m \u001b[0mself\u001b[0m\u001b[0;34m.\u001b[0m\u001b[0m_skip_invalid\u001b[0m\u001b[0;34m:\u001b[0m\u001b[0;34m\u001b[0m\u001b[0;34m\u001b[0m\u001b[0m\n",
      "\u001b[0;32m/usr/local/lib/python3.7/dist-packages/_plotly_utils/basevalidators.py\u001b[0m in \u001b[0;36mvalidate_coerce\u001b[0;34m(self, v)\u001b[0m\n\u001b[1;32m    403\u001b[0m             \u001b[0mv\u001b[0m \u001b[0;34m=\u001b[0m \u001b[0mto_scalar_or_list\u001b[0m\u001b[0;34m(\u001b[0m\u001b[0mv\u001b[0m\u001b[0;34m)\u001b[0m\u001b[0;34m\u001b[0m\u001b[0;34m\u001b[0m\u001b[0m\n\u001b[1;32m    404\u001b[0m         \u001b[0;32melse\u001b[0m\u001b[0;34m:\u001b[0m\u001b[0;34m\u001b[0m\u001b[0;34m\u001b[0m\u001b[0m\n\u001b[0;32m--> 405\u001b[0;31m             \u001b[0mself\u001b[0m\u001b[0;34m.\u001b[0m\u001b[0mraise_invalid_val\u001b[0m\u001b[0;34m(\u001b[0m\u001b[0mv\u001b[0m\u001b[0;34m)\u001b[0m\u001b[0;34m\u001b[0m\u001b[0;34m\u001b[0m\u001b[0m\n\u001b[0m\u001b[1;32m    406\u001b[0m         \u001b[0;32mreturn\u001b[0m \u001b[0mv\u001b[0m\u001b[0;34m\u001b[0m\u001b[0;34m\u001b[0m\u001b[0m\n\u001b[1;32m    407\u001b[0m \u001b[0;34m\u001b[0m\u001b[0m\n",
      "\u001b[0;32m/usr/local/lib/python3.7/dist-packages/_plotly_utils/basevalidators.py\u001b[0m in \u001b[0;36mraise_invalid_val\u001b[0;34m(self, v, inds)\u001b[0m\n\u001b[1;32m    297\u001b[0m                 \u001b[0mtyp\u001b[0m\u001b[0;34m=\u001b[0m\u001b[0mtype_str\u001b[0m\u001b[0;34m(\u001b[0m\u001b[0mv\u001b[0m\u001b[0;34m)\u001b[0m\u001b[0;34m,\u001b[0m\u001b[0;34m\u001b[0m\u001b[0;34m\u001b[0m\u001b[0m\n\u001b[1;32m    298\u001b[0m                 \u001b[0mv\u001b[0m\u001b[0;34m=\u001b[0m\u001b[0mrepr\u001b[0m\u001b[0;34m(\u001b[0m\u001b[0mv\u001b[0m\u001b[0;34m)\u001b[0m\u001b[0;34m,\u001b[0m\u001b[0;34m\u001b[0m\u001b[0;34m\u001b[0m\u001b[0m\n\u001b[0;32m--> 299\u001b[0;31m                 \u001b[0mvalid_clr_desc\u001b[0m\u001b[0;34m=\u001b[0m\u001b[0mself\u001b[0m\u001b[0;34m.\u001b[0m\u001b[0mdescription\u001b[0m\u001b[0;34m(\u001b[0m\u001b[0;34m)\u001b[0m\u001b[0;34m,\u001b[0m\u001b[0;34m\u001b[0m\u001b[0;34m\u001b[0m\u001b[0m\n\u001b[0m\u001b[1;32m    300\u001b[0m             )\n\u001b[1;32m    301\u001b[0m         )\n",
      "\u001b[0;31mValueError\u001b[0m: \n    Invalid value of type 'builtins.int' received for the 'y' property of scatter\n        Received value: 59686\n\n    The 'y' property is an array that may be specified as a tuple,\n    list, numpy array, or pandas Series"
     ]
    }
   ],
   "source": [
    "from scipy.stats import poisson\n",
    "mu_jueves=60000\n",
    "mu_viernes=70000\n",
    "L1 = poisson.rvs(mu_jueves)\n",
    "L2 = poisson.rvs(mu_viernes)\n",
    "\n",
    "def double_scatter(random_variable1, random_variable2, title=None, x_label=None, y_label=None, height=500, width=800):\n",
    "    x_values = [1,2,3,4,5]\n",
    "    y_values1 = random_variable1\n",
    "    y_values2 = random_variable2\n",
    "    \n",
    "    fig = go.Figure()\n",
    "    \n",
    "    fig.add_trace(go.Scatter(x=x_values, y=y_values1, mode='markers', name=\"pmf de VA 1\"))\n",
    "    fig.add_trace(go.Scatter(x=x_values, y=y_values2, mode='markers', name=\"pmf de VA 2\"))\n",
    "    \n",
    "    fig.update_xaxes(title_text=x_label)\n",
    "    fig.update_yaxes(title_text=y_label)\n",
    "    fig.update_layout(title_text=title, title_x=0.5)\n",
    "    fig.update_layout(height=height, width=width, template=\"plotly_dark\")\n",
    "    fig.show(renderer='notebook')\n",
    "\n",
    "double_scatter(L1,L2)"
   ]
  },
  {
   "cell_type": "markdown",
   "metadata": {
    "id": "SJrLsrKRSa4B"
   },
   "source": [
    "* De acuerdo a lo observado en el gráfico, ¿cuál es la probabilidad de que lleguen 40 autos al peaje en un intervalo de 1 minuto dado el viernes 16? (**2 pts.**)"
   ]
  },
  {
   "cell_type": "markdown",
   "metadata": {
    "id": "7MPLCXIfSa4D"
   },
   "source": [
    "* ¿Qué puede concluir de las diferencias observadas entre ambas curvas? (**2 pts.**)"
   ]
  },
  {
   "cell_type": "markdown",
   "metadata": {
    "id": "_XFDmd1ZSa4E"
   },
   "source": [
    "2. La variable aleatoria `S`, la cual tiene un comportamiento exponencial con parámetro $\\mu$, representa el tiempo que se tardará una caja en atender a un cliente. $\\mu\\approx$ 4 clientes por minuto. La cola crecerá infinitamente a menos que $\\lambda < k\\cdot\\mu$, es decir, la cantidad $k$ de cajas abiertas en el peaje debe ser tal que la suma de las tasas de servicio de cada una sea mayor a la tasa de llegada de nuevos vehículos. ¿Qué valor debe tener $k$ el día jueves 15?, ¿y el día viernes 16? (**5 pts.**)"
   ]
  },
  {
   "cell_type": "markdown",
   "metadata": {
    "id": "aOqWJwgPSa4F"
   },
   "source": []
  },
  {
   "cell_type": "markdown",
   "metadata": {
    "id": "eiJXSUizSa4G"
   },
   "source": [
    "3. El tiempo total que un vehículo pasará en el peaje, es decir, la suma del tiempo que pasará haciendo cola más el tiempo que pasará siendo atendido queda modelado como:\n",
    "$\n",
    "\\begin{equation}\n",
    "\\text{Tiempo en el Peaje}\\sim\\text{Exponencial}(k\\cdot\\mu-\\lambda)\n",
    "\\end{equation}\n",
    "$\n",
    "* De acuerdo a lo anterior, defina las variables aleatorias `T1` y `T2`, las cuales representan el tiempo total pasado en el peaje los días jueves 15 y viernes 16, respectivamente, y grafique sus cdf completando la función `double_scatter_cdf`. (**8 pts.**)"
   ]
  },
  {
   "cell_type": "code",
   "execution_count": null,
   "metadata": {
    "id": "sHX9_pP2Sa4H"
   },
   "outputs": [],
   "source": [
    "from scipy.stats import expon\n",
    "\n",
    "T1 = expon(scale = 1 / \"inserte parámetro\")\n",
    "T2 = expon(scale = 1 / \"inserte parámetro\")\n",
    "\n",
    "def double_scatter_cdf(random_variable1, random_variable2, title=None, x_label=None, y_label=None, height=500, width=800):\n",
    "    x_values = ...\n",
    "    y_values1 = ...\n",
    "    y_values2 = ...\n",
    "    \n",
    "    fig = go.Figure()\n",
    "    \n",
    "    fig.add_trace(go.Scatter(x=x_values, y=y_values1, name=\"cdf de VA 1\"))\n",
    "    fig.add_trace(go.Scatter(x=x_values, y=y_values2, name=\"cdf de VA 2\"))\n",
    "    \n",
    "    fig.update_xaxes(title_text=x_label)\n",
    "    fig.update_yaxes(title_text=y_label)\n",
    "    fig.update_layout(title_text=title, title_x=0.5)\n",
    "    fig.update_layout(height=height, width=width, template=\"plotly_dark\")\n",
    "    fig.show(renderer='notebook')\n",
    "\n",
    "double_scatter_cdf(...)"
   ]
  },
  {
   "cell_type": "markdown",
   "metadata": {
    "id": "aa5ZJHc8Sa4J"
   },
   "source": [
    "4. Se ha implementado el nuevo sistema *Free Flow* en el peaje, el cual permite a los vehículos cruzar el peaje sin detenerse, siendo cobrados a través del sistema TAG. Modelemos ahora la velocidad (en metros por segundo) a la cual un vehículo cruza el peaje como una nueva variable aleatoria $V\\sim\\mathcal{N}(\\mu, \\sigma^2)$, siendo $\\mu=27.8$ y $\\sigma=5.6$"
   ]
  },
  {
   "cell_type": "code",
   "execution_count": null,
   "metadata": {
    "id": "ZOMtQuB5Sa4J"
   },
   "outputs": [],
   "source": [
    "from scipy.stats import norm\n",
    "V = norm(loc=27.8, scale=5.6)"
   ]
  },
  {
   "cell_type": "markdown",
   "metadata": {
    "id": "OB6VZf2XSa4J"
   },
   "source": [
    "* Supongamos que la porción *Free Flow* del peaje en una dirección es de solo dos vías, que el 80% de las llegadas al peaje utilizarán dichas vías y que si dos autos consecutivos dados viajan a menos de 80 kilómetros por hora (*ojo con las unidades*), se producirá una congestión menor. Con eso en mente, haremos dos simulaciones, para los días 15 y 16 de septiembre, respectivamente: (**16 pts.**)\n",
    "    1. Un día tiene 1440 minutos, por lo tanto se le pide extraer 1440 muestras aleatorias desde la variable `L1` (llegadas en cada minuto del día).\n",
    "    2. Por el número $k$ indicado en cada muestra (menos el 20%), guarde en un arreglo $k$ velocidades extraídas al azar desde la variable aleatoria `V`. Asegúrese de ir concatenando los arreglos, de forma que se guarden todas las velocidades de llegada en un solo arreglo.\n",
    "    3. Cuente cuántas veces ocurre que dos vehículos consecutivos (velocidades consecutivas en el arreglo) viajan a menos de 80 kilómetros por hora, provocando una congestión menor, versus el total de pares consecutivos posibles y obtenga así la probabilidad empírica de que ocurra una congestión.\n",
    "    4. Repita con la variable `L2`."
   ]
  },
  {
   "cell_type": "code",
   "execution_count": null,
   "metadata": {
    "id": "rS9nrg2VSa4M"
   },
   "outputs": [],
   "source": []
  },
  {
   "cell_type": "markdown",
   "metadata": {
    "id": "hcbicrNUSa4N"
   },
   "source": []
  }
 ],
 "metadata": {
  "colab": {
   "collapsed_sections": [],
   "provenance": []
  },
  "kernelspec": {
   "display_name": "Python 3",
   "language": "python",
   "name": "python3"
  },
  "language_info": {
   "codemirror_mode": {
    "name": "ipython",
    "version": 3
   },
   "file_extension": ".py",
   "mimetype": "text/x-python",
   "name": "python",
   "nbconvert_exporter": "python",
   "pygments_lexer": "ipython3",
   "version": "3.8.8"
  },
  "vscode": {
   "interpreter": {
    "hash": "9468666b3ad265d27b7e85beb106739ec3cb053894dd08b8af377057e6acd23e"
   }
  }
 },
 "nbformat": 4,
 "nbformat_minor": 1
}
