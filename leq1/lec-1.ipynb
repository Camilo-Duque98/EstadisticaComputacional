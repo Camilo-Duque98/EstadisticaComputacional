{
 "cells": [
  {
   "cell_type": "markdown",
   "metadata": {},
   "source": [
    "<center>\n",
    "    <img src=\"http://sct.inf.utfsm.cl/wp-content/uploads/2020/04/logo_di.png\" style=\"width:60%\">\n",
    "    <h1> INF-280 - Estadística Computacional </h1>\n",
    "    <h2> Introducción y probabilidades en Python </h2>\n",
    "    <h4> Ignacio Cea Ruiz </h4>\n",
    "</center>"
   ]
  },
  {
   "cell_type": "markdown",
   "metadata": {},
   "source": [
    "## Contenidos"
   ]
  },
  {
   "cell_type": "markdown",
   "metadata": {},
   "source": [
    "## Introducción\n",
    "Los laboratorios de estadística computacional (LEC) tienen por objetivo principal analizar datos utilizando técnicas de visualización y evidenciar el comportamiento estocástico de experimentos aleatorios mediante simulaciones computacionales. Las experiencias buscan medir la habilidad de programación en Python y sus librerías, la capacidad de análisis estadístico y la comprensión de documentaciones, artículos y papers.\n",
    "\n",
    "Recuerde que los laboratorios tienen una ponderación de 25% en la nota final del ramo y que, además, el promedio de estos debe ser mayor o igual a 55 para aprobar el ramo"
   ]
  },
  {
   "cell_type": "markdown",
   "metadata": {},
   "source": [
    "## Reglamento\n",
    "1. El desarrollo de los laboratorios debe ser en **Python**.\n",
    "2. El formato de entrega es un **archivo .ipynb**, es decir, un Jupyter Notebook.\n",
    "3. El nombre del archivo de entrega del laboratorio *i* debe seguir el siguiente formato: *lec-i-nombregrupo.ipynb*.\n",
    "4. Se recomienda seguir las recomendaciones de estilo descritas en [PEP 8](https://www.python.org/dev/peps/pep-0008/) y [Type hints](https://docs.python.org/3/library/typing.html) a la hora de programar.\n",
    "5. El tiempo para la realización de los laboratorios es extenso, por lo que solo se recibirán entregas hasta las 23:59 del día de entrega **a menos que se especifique lo contrario**. Entregas fuera del plazo serán calificadas con nota 0.\n",
    "6. Antes de entregar su laboratorio verifique su **reproducibilidad**. Jupyter Notebooks con errores a la hora de ejecutarse serán penalizados con descuentos.\n",
    "7. Solo un integrante por grupo debe realizar la entrega por Aula.\n",
    "8. El código entregado es solo una guía, se puede modificar sin problemas. Así mismo, para cada ejercicio usted puede crear las funciones que estime conveniente."
   ]
  },
  {
   "cell_type": "markdown",
   "metadata": {},
   "source": [
    "## Contexto: Ciencia de datos\n",
    "\n",
    "La ciencia de datos es un **campo interdisciplinario** que mediante un conjunto de principios, definiciones de problemas, algoritmos y procesos, busca **extraer patrones no obvios** de grandes conjuntos de datos. Las habilidades más demandadas en el contexto de la ciencia de datos son:\n",
    "\n",
    "1. Programación.\n",
    "2. Bases de datos.\n",
    "3. Estadística.\n",
    "4. Probabilidad.\n",
    "5. Machine learning.\n",
    "\n",
    "A lo largo de los laboratorios se experimentará computacionalmente con la **estadística** y la **probabilidad**, además, se incentivará alcanzar un nivel más avanzado de **programación** en Python.\n",
    "\n",
    "Los LEC conforman una importante instancia de acercamiento a la ciencia de datos. Espero la disfruten."
   ]
  },
  {
   "cell_type": "markdown",
   "metadata": {},
   "source": [
    "## Toolbox\n",
    "\n",
    "La caja de herramientas (stack de tecnologias) para el presente laboratorio está conformada por:\n",
    "1. [Python](https://www.python.org/doc/).\n",
    "2. [Numpy](https://numpy.org/doc/stable/).\n",
    "5. [Matplotlib](https://matplotlib.org/stable/contents.html).\n",
    "\n",
    "Usted es libre de utilizar el entorno de desarrollo que prefiera, sin embargo se recomienda el uso de [Anaconda](https://www.anaconda.com/products/individual#Downloads), ya que incluye las herramientas necesarias para desarrollar los laboratorios, permite una rápida instalación de otras librerías y es compatible con una gran variedad de sistemas operativos.\n",
    "\n",
    "Usted también es libre de usar tanto Jupyer Notebook (incluido en la instalación individual de Anaconda) como otras alternativas de desarrollo de archivos `.ipynb` tales como [Colab](https://colab.research.google.com/) o [Visual Studio Code](https://code.visualstudio.com/). En el caso de trabajar remotamente se recomienda utilizar Git para trabajar de manera exitosa y ordenada en equipo.\n",
    "\n",
    "Las librerías se introducirán amigablemente, no se asume ningún tipo de conocimiento previo en las tecnologías presentes en nuestra toolbox salvo por Python, sin embargo, se busca promover la lectura de documentaciones de librerías."
   ]
  },
  {
   "cell_type": "markdown",
   "metadata": {},
   "source": [
    "## Experiencia\n",
    "\n"
   ]
  },
  {
   "cell_type": "markdown",
   "metadata": {},
   "source": [
    "### 1. Importación de las librerías"
   ]
  },
  {
   "cell_type": "markdown",
   "metadata": {},
   "source": [
    "A continuación se importan las librerías que necesitaremos para el correcto desarrollo de esta experiencia. Se recomienda utilizar los aliases por defecto."
   ]
  },
  {
   "cell_type": "code",
   "execution_count": 1,
   "metadata": {},
   "outputs": [],
   "source": [
    "import numpy as np\n",
    "import itertools as it\n",
    "import matplotlib.pyplot as plt\n",
    "plt.style.use('seaborn-whitegrid') # Seteo de un estilo predeterminado para los gráficos.\n",
    "from random import choice, randint\n",
    "from math import factorial"
   ]
  },
  {
   "cell_type": "markdown",
   "metadata": {},
   "source": [
    "### 2. Construcción de histogramas\n",
    "\n",
    "Un **histograma** es una representación aproximada de la distribución de datos numéricos, los cuales pueden ser discretos o continuos. Construir un histograma requiere, en primer lugar, dividir el rango de valores en una serie de intervalos (*bins* o *buckets*) y, luego, contar cuántos valores caen en cada intervalo. Los *bins* deben ser adyacentes.\n",
    "\n",
    "En segundo lugar, un rectángulo es dibujado sobre cada intervalo con una altura proporcional a la frecuencia (el número de casos en cada *bin*). Un histograma también puede ser **normalizado** para mostrar frecuencias relativas, en cuyo caso la suma de las alturas de los rectángulos debe ser igual a 1.\n",
    "\n",
    "**IMPORTANTE**: No deben ser confundidos con los gráficos de barra, los cuales son usados para graficar datos categóricos. Un histograma representa datos continuos.\n",
    "\n",
    "La forma más simple de crear un histograma a partir de un array de datos numéricos es con `plt.hist(data)`."
   ]
  },
  {
   "cell_type": "code",
   "execution_count": 2,
   "metadata": {},
   "outputs": [
    {
     "data": {
      "image/png": "[encoded data removed]",
      "text/plain": [
       "<Figure size 432x288 with 1 Axes>"
      ]
     },
     "metadata": {},
     "output_type": "display_data"
    }
   ],
   "source": [
    "data = np.random.randn(1000)\n",
    "# data: un array de mil datos *normalmente distribuidos*.\n",
    "plt.title(\"Histograma\")\n",
    "plt.hist(data);"
   ]
  },
  {
   "cell_type": "markdown",
   "metadata": {},
   "source": [
    "### 3. Gráficos con Matplotlib"
   ]
  },
  {
   "cell_type": "markdown",
   "metadata": {},
   "source": [
    "Matplotlib es una poderosa librería que provee al *data scientist* de una gran variedad de funciones para realizar gráficos de todo tipo, incluyendo los histogramas como se vio en la sección anterior. A continuación se introduce brevemente la función `plt.plot` y cómo utilizarla para realizar los gráficos pedidos más abajo.\n",
    "\n",
    "Para la mayoría de los gráficos realizados con Matplotlib, partimos inicializando una figura y un *axes*. El objeto `fig` puede pensarse como el contenedor de todos los objetos que representan los ejes, gráficos, texto y etiquetas. El objeto `ax` es lo que vemos por encima, una caja con ciertos límites que eventualmente contendrá los elementos graficados que construyen la visualización."
   ]
  },
  {
   "cell_type": "code",
   "execution_count": 3,
   "metadata": {},
   "outputs": [
    {
     "data": {
      "image/png": "[encoded data removed]",
      "text/plain": [
       "<Figure size 432x288 with 1 Axes>"
      ]
     },
     "metadata": {},
     "output_type": "display_data"
    }
   ],
   "source": [
    "fig = plt.figure()\n",
    "ax = plt.axes()"
   ]
  },
  {
   "cell_type": "markdown",
   "metadata": {},
   "source": [
    "Una vez inicializado lo anterior, podemos usar la función `ax.plot()` para graficar cosas. Supongamos que tenemos dos arreglos del mismo tamaño que representan puntos en los ejes X e Y respectivamente. Para graficarlos haríamos lo siguiente:"
   ]
  },
  {
   "cell_type": "code",
   "execution_count": 4,
   "metadata": {},
   "outputs": [
    {
     "data": {
      "image/png": "[encoded data removed]",
      "text/plain": [
       "<Figure size 432x288 with 1 Axes>"
      ]
     },
     "metadata": {},
     "output_type": "display_data"
    }
   ],
   "source": [
    "X = [1, 2, 3, 4]\n",
    "Y = [0.5, 2.3, 3.2, 3.4]\n",
    "fig = plt.figure()\n",
    "ax = plt.axes()\n",
    "ax.plot(X, Y);"
   ]
  },
  {
   "cell_type": "markdown",
   "metadata": {},
   "source": [
    "Podemos agregar como tercer parámetro un `'o'` para decir que queremos graficar puntos sueltos en vez de una curva (también sirve `'.'` para obtener puntos más pequeños):"
   ]
  },
  {
   "cell_type": "code",
   "execution_count": 5,
   "metadata": {},
   "outputs": [
    {
     "data": {
      "image/png": "[encoded data removed]",
      "text/plain": [
       "<Figure size 432x288 with 1 Axes>"
      ]
     },
     "metadata": {},
     "output_type": "display_data"
    }
   ],
   "source": [
    "fig = plt.figure()\n",
    "ax = plt.axes()\n",
    "ax.plot(X, Y, 'o');"
   ]
  },
  {
   "cell_type": "markdown",
   "metadata": {},
   "source": [
    "*Nota*: Podrá observar que en el último comando se agrega un `;`, esto se hace para que no aparezca el output de la función, sino solamente el gráfico generado."
   ]
  },
  {
   "cell_type": "markdown",
   "metadata": {},
   "source": [
    "Este laboratorio queda pequeño para la gran variedad de opciones que nos provee Matplotlib para personalizar los gráficos. Para mayor información, se recomienda leer la documentación de la librería. En los problemas a desarrollar podrá experimentar un poco más con Matplotlib"
   ]
  },
  {
   "cell_type": "markdown",
   "metadata": {},
   "source": [
    "### 4. Técnicas de conteo"
   ]
  },
  {
   "cell_type": "markdown",
   "metadata": {},
   "source": [
    "Es de especial utilidad para cualquier problema de conteo el uso de la librería `itertools`. Las funciones presentadas a continuación se importan desde dicha librería."
   ]
  },
  {
   "cell_type": "markdown",
   "metadata": {},
   "source": [
    "#### 4.1 Pares ordenados"
   ]
  },
  {
   "cell_type": "markdown",
   "metadata": {},
   "source": [
    "\n",
    "Cuando tenemos un conjunto $\\Omega_1$ que queremos emparejar con otro $\\Omega_2$, su cardinalidad será $|\\Omega_1|\\times|\\Omega_2|$. \n",
    "\n",
    "**Ejemplo:** suponga que quiere ver de cuántas formas combinar poleras de color **rojo, azul y negro** con pantalones de color **verde, morado y azul**. La teoría nos dice que tendremos un total de $3\\times3=9$ pares ordenados. Comprobamos usando la función `product(iterable1, iterable2)`, la cual retorna un objeto que contiene los pares ordenados:"
   ]
  },
  {
   "cell_type": "code",
   "execution_count": 6,
   "metadata": {},
   "outputs": [
    {
     "name": "stdout",
     "output_type": "stream",
     "text": [
      "('azul', 'azul')\n",
      "('azul', 'verde')\n",
      "('azul', 'morado')\n",
      "('negro', 'azul')\n",
      "('negro', 'verde')\n",
      "('negro', 'morado')\n",
      "('rojo', 'azul')\n",
      "('rojo', 'verde')\n",
      "('rojo', 'morado')\n",
      "El total de pares posibles es 9.\n"
     ]
    }
   ],
   "source": [
    "poleras = {\"rojo\", \"azul\", \"negro\"}\n",
    "pantalones = {\"verde\", \"morado\", \"azul\"}\n",
    "pares = it.product(poleras, pantalones)\n",
    "count = 0\n",
    "for par in pares:\n",
    "    print(par)\n",
    "    count += 1\n",
    "print(f\"El total de pares posibles es {count}.\")"
   ]
  },
  {
   "cell_type": "markdown",
   "metadata": {},
   "source": [
    "**Nota**: A la función `product()` se le puede pasar una cantidad indeterminada de iterables, de forma tal de obtener todas las posibles combinaciones."
   ]
  },
  {
   "cell_type": "markdown",
   "metadata": {},
   "source": [
    "#### 4.2 Permutaciones"
   ]
  },
  {
   "cell_type": "markdown",
   "metadata": {},
   "source": [
    "Es una selección \"ordenada\" de tamaño $k$ de un conjunto de tamaño $n$: $$\\frac{n!}{(n-k)!}$$\n",
    "\n",
    "**Ejemplo:** Un curso tiene 20 estudiantes. 5 de ellos se unen a la clase online. ¿De cuántas formas pueden ingresar? (el orden importa). La teoría nos dice: $\\frac{20!}{15!}=1.860.480$ formas. Para comprobar la respuesta, utilizamos la función `permutations(iterable, k)`:"
   ]
  },
  {
   "cell_type": "code",
   "execution_count": 7,
   "metadata": {},
   "outputs": [
    {
     "name": "stdout",
     "output_type": "stream",
     "text": [
      "La cantidad de permutaciones posibles es 1860480.\n"
     ]
    }
   ],
   "source": [
    "alumnos = ['Brandy', 'Thomas', 'Leo', 'Joyce', 'Jason', 'Brandon', 'Lois',\n",
    "           'Steven', 'Isaac', 'Shelby', 'Kenneth', 'Karen', 'Joshua', 'Jody',\n",
    "           'Woodrow', 'Eugene', 'Peggy', 'Malcolm', 'Dorothy', 'Benjamin']\n",
    "\n",
    "count = 0\n",
    "for _ in it.permutations(alumnos, 5):\n",
    "    count += 1\n",
    "print(f\"La cantidad de permutaciones posibles es {count}.\")"
   ]
  },
  {
   "cell_type": "markdown",
   "metadata": {},
   "source": [
    "#### 4.3 Combinaciones"
   ]
  },
  {
   "cell_type": "markdown",
   "metadata": {},
   "source": [
    "Es una selección \"desordenada\" de tamaño $k$ de un conjunto de tamaño $n$:\n",
    "\n",
    "$$\\binom{n}{k}=\\frac{n!}{(n-k)!\\times k!}$$\n",
    "\n",
    "**Ejemplo:** Del mismo conjunto anterior de 20 estudiantes, queremos elegir 3 al azar para que participen en una competencia, el orden no importa, ¿cuántos grupos distintos podemos formar?. La teoría nos dice $\\binom{20}{3}=\\frac{20!}{17!\\times3!}=1140$. Para comprobar experimentalmente utilizamos la función `combinations(iterable, k)`."
   ]
  },
  {
   "cell_type": "code",
   "execution_count": 8,
   "metadata": {},
   "outputs": [
    {
     "name": "stdout",
     "output_type": "stream",
     "text": [
      "La cantidad de combinaciones posibles es 1140.\n"
     ]
    }
   ],
   "source": [
    "count = 0\n",
    "for _ in it.combinations(alumnos, 3):\n",
    "    count += 1\n",
    "print(f\"La cantidad de combinaciones posibles es {count}.\")"
   ]
  },
  {
   "cell_type": "markdown",
   "metadata": {},
   "source": [
    "### 5. Problemas"
   ]
  },
  {
   "cell_type": "markdown",
   "metadata": {},
   "source": [
    "#### 5.1 Juego de la ruleta **(25 pts.)**"
   ]
  },
  {
   "cell_type": "markdown",
   "metadata": {},
   "source": [
    "Cierto juego de ruleta consiste en realizar 3 giros a la ruleta y llevarse los premios indicados en cada casilla. El precio por jugar es de $1000. Cada una de las casillas tiene la misma probabilidad de salir al realizar un giro. Los premios de cada casilla se muestran en la siguiente imagen:\n",
    "\n",
    "<p align=\"center\">\n",
    "    <img src=\"ruleta.png\" width=300/>\n",
    "</p>"
   ]
  },
  {
   "cell_type": "markdown",
   "metadata": {},
   "source": [
    "**a)** Calcule la probabilidad teórica de recuperar la inversión al jugar una vez, es decir, de obtener un premio mayor o igual a $1000. Para esto, deberá hacer uso de una técnica de conteo. **(5 pts.)**\n"
   ]
  },
  {
   "cell_type": "code",
   "execution_count": 18,
   "metadata": {},
   "outputs": [
    {
     "name": "stdout",
     "output_type": "stream",
     "text": [
      "0.5234375\n"
     ]
    }
   ],
   "source": [
    "#creo que es así\n",
    "omega1=[1000,400,100,500,50,400,200,200]\n",
    "omega2=[1000,400,100,500,50,400,200,200]\n",
    "omega3=[1000,400,100,500,50,400,200,200]\n",
    "omega = it.product(omega1,omega2,omega3)\n",
    "ListaResultados=list()\n",
    "A=list()\n",
    "for i in omega:\n",
    "    ListaResultados.append(i)\n",
    "    if(sum(i)>=1000):\n",
    "        A.append(i)\n",
    "arrayTotalElements = np.array(ListaResultados)\n",
    "arrayResults = np.array(A)\n",
    "Probability = lambda x , y : x/y\n",
    "\n",
    "print(Probability(arrayResults.shape[0], arrayTotalElements.shape[0]))"
   ]
  },
  {
   "cell_type": "markdown",
   "metadata": {},
   "source": [
    "**b)** Obtenga la probabilidad experimental de recuperar la inversión al jugar una vez (simule el juego $10^5$ veces). **(5 pts.)**"
   ]
  },
  {
   "cell_type": "code",
   "execution_count": 17,
   "metadata": {},
   "outputs": [
    {
     "name": "stdout",
     "output_type": "stream",
     "text": [
      "0.52344\n"
     ]
    }
   ],
   "source": [
    "powt = np.power(10,5)\n",
    "BestResult = list()\n",
    "AllResult = list()\n",
    "count = 0\n",
    "\n",
    "while(count < powt):\n",
    "    count += 1\n",
    "    selection = choice(arrayTotalElements)\n",
    "    if sum(selection) >= 1000:\n",
    "        BestResult.append(selection)\n",
    "    AllResult.append(selection)\n",
    "arrayResult = np.array(BestResult)\n",
    "print(Probability(arrayResult.shape[0],powt))\n"
   ]
  },
  {
   "cell_type": "markdown",
   "metadata": {},
   "source": [
    "**c)** Genere un histograma con los valores obtenidos en cada simulación anterior. (*Hint*: almacene en una lista el premio de *cada* juego). Describa lo ocurrido. **(5 pts.)**"
   ]
  },
  {
   "cell_type": "code",
   "execution_count": 19,
   "metadata": {},
   "outputs": [
    {
     "data": {
      "image/png": "[encoded data removed]",
      "text/plain": [
       "<Figure size 432x288 with 1 Axes>"
      ]
     },
     "metadata": {},
     "output_type": "display_data"
    }
   ],
   "source": [
    "SumValuesUp = list()\n",
    "for i in AllResult:\n",
    "    SumValuesUp.append(sum(i))\n",
    "arrayAllResult=np.array(SumValuesUp)\n",
    "plt.title('Histograma')\n",
    "plt.hist(arrayAllResult);"
   ]
  },
  {
   "cell_type": "markdown",
   "metadata": {},
   "source": [
    "**d)** Un sujeto que llevaba toda la tarde perdiendo dinero en la ruleta le dice a usted que está seguro de que la ruleta está cargada de la siguiente manera:\n",
    "\n",
    "<p align=\"center\">\n",
    "    <img src=\"ruleta_sesgada.png\" width=300/>\n",
    "</p>\n",
    "\n",
    "Vuelva a simular $10^5$ juegos con las probabilidades dadas y calcule la probabilidad de recuperar la inversión bajo el escenario propuesto por el sujeto. (*Hint*: La función `choice` de la libería `np.random` podría ser de utilidad) **(5 pts.)**"
   ]
  },
  {
   "cell_type": "code",
   "execution_count": 20,
   "metadata": {},
   "outputs": [
    {
     "name": "stdout",
     "output_type": "stream",
     "text": [
      "3e-05\n"
     ]
    }
   ],
   "source": [
    "values=[1000,400,100,500,50,400,200,200]\n",
    "probabilities = [1/16,1/16,3/16,1/16,3/16,3/16,2/16,2/16]\n",
    "\n",
    "list_win = list()\n",
    "list_All = list()\n",
    "count2 = 0\n",
    "while count2 < powt:\n",
    "    count2+=2\n",
    "    selection = np.random.choice(values,3,probabilities)\n",
    "    list_All.append(sum(selection))\n",
    "    if sum(selection) >= 1000:\n",
    "        list_win.append(selection)\n",
    "arrayListWin = np.array(list_win)\n",
    "arrayListAll = np.array(list_All)\n",
    "\n",
    "print(Probability(arrayListWin.shape[1],powt))"
   ]
  },
  {
   "cell_type": "markdown",
   "metadata": {},
   "source": [
    "**e)** Muestre un histograma con los datos simulados en la pregunta anterior. ¿En qué se diferencia del histograma generado anteriormente? **(5 pts.)**"
   ]
  },
  {
   "cell_type": "code",
   "execution_count": 22,
   "metadata": {},
   "outputs": [
    {
     "name": "stdout",
     "output_type": "stream",
     "text": [
      "[ 550 2500 1600 ...  700 1200  900]\n"
     ]
    },
    {
     "data": {
      "image/png": "[encoded data removed]",
      "text/plain": [
       "<Figure size 432x288 with 1 Axes>"
      ]
     },
     "metadata": {},
     "output_type": "display_data"
    }
   ],
   "source": [
    "plt.title('Histograma')\n",
    "plt.hist(arrayListAll)\n",
    "print(arrayListAll)"
   ]
  },
  {
   "cell_type": "markdown",
   "metadata": {},
   "source": [
    "#### 5.2 Integración de Montecarlo **(25 pts.)**"
   ]
  },
  {
   "cell_type": "markdown",
   "metadata": {},
   "source": [
    "En matemáticas, muchas veces nos enfrentamos al desafío de obtener el área de una curva a partir de una función imposible de despejar. ¿Cómo podemos calcular su valor? Existen varios métodos. En esta sección exploraremos el **método de Montecarlo**, llamado así en referencia al Casino de Montecarlo ubicado en Mónaco, ciudad-estado conocida por ser \"la capital del juego de azar\".\n",
    "\n",
    "Este método puede utilizarse para aproximar el área de cualquier figura matemática compleja. Los pasos a seguir son:\n",
    "1. Delimitar una curva con área conocida (por ejemplo, un cuadrado) que contenga la figura que queremos aproximar.\n",
    "2. Generar $n$ puntos aleatorios, de forma equiprobable y con reposición, dentro del área global.\n",
    "3. Calcular qué procentaje de puntos del total se encuentran dentro del área que se está aproximando.\n",
    "4. Obtener la aproximación del área, multiplicando el porcentaje de puntos que quedaron en el área objetivo por el área global que se usó.\n",
    "\n",
    "Considere la figura descrita por la siguiente ecuación: $$(x^2+y^2-1)^3-x^2y^3=0$$ Notar que es una curva cerrada y el área a estimar es la encerrada por esta."
   ]
  },
  {
   "cell_type": "markdown",
   "metadata": {},
   "source": [
    "**a)** Visualice la figura. Para esto puede generar puntos al azar dentro de un cuadrado de lado 3 centrado en el origen (será suficiente para contener bien la figura) y diferenciar los que caen dentro de la figura de los que caen fuera. (**10 pts.**)\n",
    "* *Hint 1*: Utilice la desigualdad $(x^2+y^2-1)^3-x^2y^3<0$) 💟 \n",
    "* *Hint 2*: La función `np.random.uniform()` le será de utilidad.\n",
    "* *Hint 3*: Usted puede utilizar `plt.plot()` más de una vez, de forma de graficar más de una cosa en un mismo gráfico."
   ]
  },
  {
   "cell_type": "code",
   "execution_count": 59,
   "metadata": {},
   "outputs": [
    {
     "data": {
      "image/png": "[encoded data removed]",
      "text/plain": [
       "<Figure size 432x288 with 1 Axes>"
      ]
     },
     "metadata": {},
     "output_type": "display_data"
    }
   ],
   "source": [
    "function = lambda x,y: np.power((np.power(x,2)+np.power(y,2)-1),3)-np.power(x,2)*np.power(y,3)\n",
    "x = np.random.uniform(-1.5,1.5,100000000)\n",
    "y = np.random.uniform(-1.5,1.5,100000000)\n",
    "plt.title('')\n",
    "plt.plot(function(x,y),'.',color = 'tab:red');"
   ]
  },
  {
   "cell_type": "markdown",
   "metadata": {},
   "source": [
    "**b)** Utilice la integración de Montecarlo para estimar el área de la figura. Realice el proceso 4 veces utilizando $10^2$, $10^3$, $10^4$ y $10^5$ puntos aleatorios. Para cada caso, muestre la estimación del área y el gráfico generado. (**15 pts.**)\n",
    "* *Opcional:* Usted puede utilizar *subplots* para generar más de un gráfico en una misma figura"
   ]
  },
  {
   "cell_type": "code",
   "execution_count": null,
   "metadata": {},
   "outputs": [],
   "source": []
  },
  {
   "cell_type": "markdown",
   "metadata": {},
   "source": [
    "#### 5.3 Problemas varios **(50 pts.)**"
   ]
  },
  {
   "cell_type": "markdown",
   "metadata": {},
   "source": [
    "**a)** Suponga que un curso tiene la cantidad de estudiantes contenida en la lista mostrada en la celda inferior. Se realiza una clase online y solo 6 estudiantes se unen a la clase en un orden determinado. ¿Cuál es la probabilidad de que el primero en llegar sea Clement y la última Pamela? **(5 pts.)**"
   ]
  },
  {
   "cell_type": "code",
   "execution_count": 14,
   "metadata": {},
   "outputs": [],
   "source": [
    "estudiantes = ['Rob', 'Ken', 'Clement', 'Todd', 'Gene', 'Jennifer', 'Robert',\n",
    "               'James', 'Jasmin', 'Charles', 'Sue', 'Bradley', 'Howard',\n",
    "               'Sofia', 'Jeremy', 'Margaret', 'Pamela', 'Richard', 'Russell',\n",
    "               'James', 'Christiana', 'Dennis', 'Eric', 'Estella', 'Corinne',\n",
    "               'Andrew', 'Johnny', 'Michael', 'Alicia', 'Christy']"
   ]
  },
  {
   "cell_type": "markdown",
   "metadata": {},
   "source": [
    "**b)** Una tubería de 100 metros de largo debe ser cortada en dos puntos. Solo puede ser cortada en puntos específicos, de donde originalmente fue soldada a partir de tuberías más cortas. Si los dos puntos de corte son elegidos al azar de forma equiprobable, encuentre la probabilidad de que una de las tuberías resultantes tenga un largo mayor a $L$ metros.\n",
    "\n",
    "* Cree una función llamada `probabilidad` que tenga como input una lista de enteros llamda `soldaduras` y un entero `L`. Esta función debe calcular la probabilidad de que el largo de una o más de las tuberías resultantes sea estrictamente mayor a `L`, si los dos puntos de corte son elegidos al azar desde `soldaduras`. Cada elemento en dicha lista representa el número de metros desde el terminal izquierdo de la tubería. **(15 pts.)**\n",
    "    * `soldaduras` tendrá entre 2 y 50 elementos.\n",
    "    * Cada elemento en `soldaduras` estará entre 1 y 99.\n",
    "    * `soldaduras` NO tendrá elementos duplicados.\n",
    "    * `L` será un valor entre 1 y 100."
   ]
  },
  {
   "cell_type": "code",
   "execution_count": 15,
   "metadata": {},
   "outputs": [
    {
     "name": "stdout",
     "output_type": "stream",
     "text": [
      "None\n",
      "None\n",
      "None\n",
      "None\n"
     ]
    }
   ],
   "source": [
    "def probabilidad(soldaduras: list[int], L: int) -> float:\n",
    "    ...\n",
    "\n",
    "print(probabilidad([99, 88, 77, 66, 55, 44, 33, 22, 11], 50))\n",
    "# output: 0.7222222222222222\n",
    "\n",
    "print(probabilidad([25, 50, 75], 25))\n",
    "# output: 1.0\n",
    "\n",
    "print(probabilidad([25, 50, 75], 50))\n",
    "# output: 0.0\n",
    "\n",
    "print(probabilidad([25, 50, 75], 24))\n",
    "# output: 1.0"
   ]
  },
  {
   "cell_type": "markdown",
   "metadata": {},
   "source": [
    "* ¿Cuál es el espacio muestral del problema planteado? **(5 pts.)**"
   ]
  },
  {
   "cell_type": "markdown",
   "metadata": {},
   "source": []
  },
  {
   "cell_type": "markdown",
   "metadata": {},
   "source": [
    "**c)** Paradoja del cumpleaños: \n",
    "> \"En el planeta Tierra, si hay al menos 23 personas en una habitación, la probabilidad de que dos de ellas compartan el mismo cumpleaños es mayor al 50%\"\n",
    "\n",
    "* Suponga que le gustaría conocer más datos *freak* como el anterior. Con ese objetivo en mente, desarrolle la función `minPersonas`, la cual recibe los enteros `min_prob` y `dias_anio`, y retorna el mínimo número de personas (de un planeta donde hay `dias_anio` días en un año) necesitadas en una habitación de tal forma que se pueda estar al menos `min_prob`% seguro de que dos de ellas comparten cumpleaños. **(15 pts.)**\n",
    "    * Usted puede asumir que nacer en cualquier día del año es equiprobable (`1 / dias_anio`).\n",
    "    * Usted puede asumir que no hay años bisiestos.\n",
    "    * `min_prob` es un porcentaje, por lo que sus valores fluctúan entre 1 y 99."
   ]
  },
  {
   "cell_type": "code",
   "execution_count": 16,
   "metadata": {},
   "outputs": [
    {
     "name": "stdout",
     "output_type": "stream",
     "text": [
      "None\n",
      "None\n",
      "None\n",
      "None\n"
     ]
    }
   ],
   "source": [
    "def minPersonas(min_prob: int, dias_anio: int) -> int:\n",
    "    ...\n",
    "\n",
    "print(minPersonas(75, 5))\n",
    "# output: 4\n",
    "\n",
    "print(minPersonas(50, 365))\n",
    "# output: 23\n",
    "\n",
    "print(minPersonas(1, 365))\n",
    "# output: 4\n",
    "\n",
    "print(minPersonas(84, 9227))\n",
    "# output: 184"
   ]
  },
  {
   "cell_type": "markdown",
   "metadata": {},
   "source": [
    "* Explique el fenómeno detrás de la *paradoja del cumpleaños*. **(10 pts.)**"
   ]
  },
  {
   "cell_type": "markdown",
   "metadata": {},
   "source": []
  }
 ],
 "metadata": {
  "kernelspec": {
   "display_name": "Python 3 (ipykernel)",
   "language": "python",
   "name": "python3"
  },
  "language_info": {
   "codemirror_mode": {
    "name": "ipython",
    "version": 3
   },
   "file_extension": ".py",
   "mimetype": "text/x-python",
   "name": "python",
   "nbconvert_exporter": "python",
   "pygments_lexer": "ipython3",
   "version": "3.9.4"
  },
  "vscode": {
   "interpreter": {
    "hash": "54eeab819945527a8d7209e791edf978968ef866f623a7ff0720d88b4a19b9c8"
   }
  }
 },
 "nbformat": 4,
 "nbformat_minor": 2
}
